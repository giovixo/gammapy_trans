{
 "cells": [
  {
   "cell_type": "markdown",
   "metadata": {},
   "source": [
    "# Light curve simulation and fitting\n",
    "\n",
    "- https://docs.gammapy.org/dev/tutorials/light_curve_simulation.html\n",
    "\n",
    "- This tutorial explains how to use the temporal models for simulations.\n",
    "\n",
    "- Frequently, studies of variable sources (eg: decaying GRB light curves, AGN flares, etc) require time variable simulations. For most use cases, it is not necessary to generate an event list sampling all events, but generating fake reduced observations in time bins according to a given temporal model suffices \n",
    "\n",
    "**Objective: Simulate and fit a time decaying light curve of a source with CTA using the CTA 1DC response**\n",
    "\n",
    "\n"
   ]
  },
  {
   "cell_type": "markdown",
   "metadata": {},
   "source": [
    "## Setup"
   ]
  },
  {
   "cell_type": "code",
   "execution_count": 1,
   "metadata": {},
   "outputs": [],
   "source": [
    "%matplotlib inline\n",
    "import matplotlib.pyplot as plt\n",
    "import numpy as np\n",
    "import astropy.units as u\n",
    "from astropy.coordinates import SkyCoord, Angle\n",
    "from astropy.time import Time\n",
    "from regions import CircleSkyRegion\n",
    "\n",
    "import logging\n",
    "\n",
    "log = logging.getLogger(__name__)"
   ]
  },
  {
   "cell_type": "markdown",
   "metadata": {},
   "source": [
    "And some gammapy specific imports"
   ]
  },
  {
   "cell_type": "code",
   "execution_count": 2,
   "metadata": {},
   "outputs": [
    {
     "name": "stdout",
     "output_type": "stream",
     "text": [
      "gammapy version: 0.17\n"
     ]
    }
   ],
   "source": [
    "import gammapy\n",
    "print(\"gammapy version: {}\".format(gammapy.__version__))"
   ]
  },
  {
   "cell_type": "code",
   "execution_count": 3,
   "metadata": {},
   "outputs": [],
   "source": [
    "from gammapy.data import Observation\n",
    "from gammapy.irf import load_cta_irfs\n",
    "from gammapy.datasets import SpectrumDataset, Datasets\n",
    "from gammapy.modeling.models import (\n",
    "    PowerLawSpectralModel,\n",
    "    ExpDecayTemporalModel,\n",
    "    SkyModel,\n",
    "    LightCurveTemplateTemporalModel,\n",
    ")\n",
    "from gammapy.maps import MapAxis\n",
    "from gammapy.estimators import LightCurveEstimator\n",
    "from gammapy.makers import SpectrumDatasetMaker\n",
    "from gammapy.modeling import Fit"
   ]
  },
  {
   "cell_type": "markdown",
   "metadata": {},
   "source": [
    "## A class for a power law temporal decay model"
   ]
  },
  {
   "cell_type": "code",
   "execution_count": 4,
   "metadata": {},
   "outputs": [],
   "source": [
    "# An exponential decay (just for test)\n",
    "from gammapy.modeling.models import TemporalModel\n",
    "from gammapy.modeling import Parameter\n",
    "class MyTemporalModel(TemporalModel):\n",
    "    \"\"\"Temporal model with an exponential decay.\n",
    "        ..math::\n",
    "                F(t) = exp(t - t_ref)/t0\n",
    "    Parameters\n",
    "    ----------\n",
    "    t0 : `~astropy.units.Quantity`\n",
    "        Decay time scale\n",
    "    t_ref: `~astropy.units.Quantity`\n",
    "        The reference time in mjd\n",
    "    \"\"\"\n",
    "\n",
    "    tag = \"ExponentialDecayTemporalModel\"\n",
    "\n",
    "    t0 = Parameter(\"t0\", \"1 d\", frozen=False)\n",
    "\n",
    "    _t_ref_default = Time(\"2000-01-01\")\n",
    "    t_ref = Parameter(\"t_ref\", _t_ref_default.mjd, unit=\"day\", frozen=True)\n",
    "\n",
    "    @staticmethod\n",
    "    def evaluate(time, t0, t_ref):\n",
    "        \"\"\"Evaluate at given times\"\"\"\n",
    "        return np.exp(-(time - t_ref) / t0)\n",
    "\n",
    "    def integral(self, t_min, t_max):\n",
    "        \"\"\"Evaluate the integrated flux within the given time intervals\n",
    "        Parameters\n",
    "        ----------\n",
    "        t_min: `~astropy.time.Time`\n",
    "            Start times of observation\n",
    "        t_max: `~astropy.time.Time`\n",
    "            Stop times of observation\n",
    "        Returns\n",
    "        -------\n",
    "        norm : float\n",
    "            Integrated flux norm on the given time intervals\n",
    "        \"\"\"\n",
    "        pars = self.parameters\n",
    "        t0 = pars[\"t0\"].quantity\n",
    "        t_ref = Time(pars[\"t_ref\"].quantity, format=\"mjd\")\n",
    "        value = self.evaluate(t_max, t0, t_ref) - self.evaluate(t_min, t0, t_ref)\n",
    "        return -t0 * value / self.time_sum(t_min, t_max)"
   ]
  },
  {
   "cell_type": "code",
   "execution_count": 5,
   "metadata": {},
   "outputs": [],
   "source": [
    "from gammapy.modeling.models import TemporalModel\n",
    "from gammapy.modeling import Parameter\n",
    "class PowerlawDecayTemporalModel(TemporalModel):\n",
    "    \"\"\"Temporal model with a power law decay.\n",
    "        ..math::\n",
    "                np.power(( (time - t_ref) / t0 ), index)\n",
    "    Parameters\n",
    "    ----------\n",
    "    t0 : `~astropy.units.Quantity`\n",
    "        Decay time scale\n",
    "    t_ref: `~astropy.units.Quantity`\n",
    "        The reference time \n",
    "    index: `~astropy.units.Quantity`\n",
    "        Power index \n",
    "    \"\"\"\n",
    "\n",
    "    tag = \"PowerlawDecayTemporalModel\"\n",
    "\n",
    "    t0 = Parameter(\"t0\", 1.*u.s, frozen=True)\n",
    "\n",
    "    _t_ref_default = Time(\"2000-01-01\")\n",
    "    t_ref = Parameter(\"t_ref\", (_t_ref_default.mjd*u.d).to(u.s), frozen=True)\n",
    "    \n",
    "    t_index = Parameter(\"t_index\", -2.0)\n",
    "\n",
    "    @staticmethod\n",
    "    def evaluate(time, t0, t_ref, t_index):\n",
    "        \"\"\"Evaluate at given times\"\"\"\n",
    "        return np.power(( (time - t_ref) / t0 ), t_index)\n",
    "\n",
    "    def integral(self, t_min, t_max):\n",
    "        \"\"\"Evaluate the integrated flux within the given time intervals\n",
    "        Parameters\n",
    "        ----------\n",
    "        t_min: `~astropy.time.Time`\n",
    "            Start times of observation\n",
    "        t_max: `~astropy.time.Time`\n",
    "            Stop times of observation\n",
    "        Returns\n",
    "        -------\n",
    "        norm : float\n",
    "            Integrated flux norm on the given time intervals\n",
    "        \"\"\"\n",
    "        pars = self.parameters\n",
    "        t0 = pars[\"t0\"].quantity\n",
    "        t_index = pars[\"t_index\"].quantity\n",
    "        #t_ref = Time(pars[\"t_ref\"].quantity, format=\"mjd\")\n",
    "        t_ref = pars[\"t_ref\"].quantity\n",
    "        dec1 = t_index+1.0\n",
    "        value = self.evaluate(t_max, t0, t_ref, dec1) - self.evaluate(t_min, t0, t_ref, dec1)\n",
    "        return ( (t0/dec1) * value / self.time_sum(t_min, t_max) ).value"
   ]
  },
  {
   "cell_type": "markdown",
   "metadata": {},
   "source": [
    "## GRB190114C\n",
    "\n",
    "From paper of MAGIC collaboration (Nature, 575, 455, 2019)\n",
    "\n",
    "Redshift: z=0.4245\n",
    "\n",
    "Power law spectrum, with Gamma=5.4, F0=4.1e-10 ph/Tev/cm2/s at E0=0.475 TeV in the 0.3-1 TeV band. \n",
    "\n",
    "Power law light curve, with delta=-1.6\n",
    "\n",
    "T0=14 January 2019, 20:57:03 UTC\n",
    "\n",
    "MAGIC observations started T+57s and lasted T0+15912 s\n",
    "\n",
    "\n",
    "## Simulating a light curve\n",
    "\n",
    "We will simulate 6 datasets using an `PowerLawSpectralModel` and the `PowerlawDecayTemporalModel` we have implemented for this study. "
   ]
  },
  {
   "cell_type": "code",
   "execution_count": 6,
   "metadata": {},
   "outputs": [],
   "source": [
    "# Loading IRFs\n",
    "irfs = load_cta_irfs(\n",
    "    \"/Users/giovanni/Works/CTA/gammapy_trans/data/cta/prod2/bcf/South_50h/irf_file.fits.gz\"\n",
    ")"
   ]
  },
  {
   "cell_type": "code",
   "execution_count": 7,
   "metadata": {},
   "outputs": [],
   "source": [
    "# Reconstructed and true energy axis\n",
    "center = SkyCoord(0.0, 0.0, unit=\"deg\", frame=\"galactic\")\n",
    "\n",
    "# [Generate an axis object from a sequence of bin edges: \n",
    "# This method should be used to construct an axis where the bin edges \n",
    "# should lie at specific values (e.g. a histogram). \n",
    "# The number of bins will be one less than the number of edges.\n",
    "# 0.32-10.0 TeV (true: 0.05-10 TeV)]\n",
    "energy_axis = MapAxis.from_edges(\n",
    "    np.logspace(-0.5, 1.0, 10), unit=\"TeV\", name=\"energy\", interp=\"log\"\n",
    ")\n",
    "energy_axis_true = MapAxis.from_edges(\n",
    "    np.logspace(-1.2, 2.0, 31), unit=\"TeV\", name=\"energy_true\", interp=\"log\"\n",
    ")\n",
    "\n",
    "on_region_radius = Angle(\"0.11 deg\")\n",
    "on_region = CircleSkyRegion(center=center, radius=on_region_radius)"
   ]
  },
  {
   "cell_type": "code",
   "execution_count": 8,
   "metadata": {},
   "outputs": [],
   "source": [
    "# Pointing position\n",
    "pointing = SkyCoord(0.5, 0.5, unit=\"deg\", frame=\"galactic\")"
   ]
  },
  {
   "cell_type": "code",
   "execution_count": 9,
   "metadata": {},
   "outputs": [],
   "source": [
    "# Define the source model: A combination of spectral and temporal model\n",
    "\n",
    "# [Start time]\n",
    "gti_t0 = Time(\"2019-01-14 20:57:03\")\n",
    "\n",
    "# [F(E)=F0(E/E0)^Gamma where index= photon index, amplitude = F(E0), reference=E0]\n",
    "spectral_model = PowerLawSpectralModel(\n",
    "#    index=2.2, amplitude=\"1e-11 cm-2 s-1 TeV-1\", reference=\"1 TeV\"\n",
    "    #index=3, amplitude=\"1e-11 cm-2 s-1 TeV-1\", reference=\"1 TeV\"\n",
    "    index=5.4, amplitude=\"4.1e-10 cm-2 s-1 TeV-1\", reference=\"0.475 TeV\"\n",
    ")\n",
    "\n",
    "# Temporal model\n",
    "# test  (it works)\n",
    "#temporal_model = MyTemporalModel(t0=\"6 h\", t_ref=gti_t0.mjd * u.d)\n",
    "# power law temporal model\n",
    "temporal_model = PowerlawDecayTemporalModel(t0=1 * u.s, t_ref=gti_t0.mjd * u.d, t_index=-1.6)\n",
    "\n",
    "# [F(t,E)=F(E)*exp((t-t_ref)/t0)]\n",
    "model_simu = SkyModel(\n",
    "    spectral_model=spectral_model,\n",
    "    temporal_model=temporal_model,\n",
    "    name=\"model-simu\",\n",
    ")\n"
   ]
  },
  {
   "cell_type": "code",
   "execution_count": 10,
   "metadata": {},
   "outputs": [
    {
     "data": {
      "text/html": [
       "<i>Table length=6</i>\n",
       "<table id=\"table140631939215656\" class=\"table-striped table-bordered table-condensed\">\n",
       "<thead><tr><th>name</th><th>value</th><th>unit</th><th>min</th><th>max</th><th>frozen</th><th>error</th></tr></thead>\n",
       "<thead><tr><th>str9</th><th>float64</th><th>str14</th><th>float64</th><th>float64</th><th>bool</th><th>int64</th></tr></thead>\n",
       "<tr><td>index</td><td>5.400e+00</td><td></td><td>nan</td><td>nan</td><td>False</td><td>0.000e+00</td></tr>\n",
       "<tr><td>amplitude</td><td>4.100e-10</td><td>cm-2 s-1 TeV-1</td><td>nan</td><td>nan</td><td>False</td><td>0.000e+00</td></tr>\n",
       "<tr><td>reference</td><td>4.750e-01</td><td>TeV</td><td>nan</td><td>nan</td><td>True</td><td>0.000e+00</td></tr>\n",
       "<tr><td>t0</td><td>1.000e+00</td><td>s</td><td>nan</td><td>nan</td><td>True</td><td>0.000e+00</td></tr>\n",
       "<tr><td>t_ref</td><td>5.054e+09</td><td>s</td><td>nan</td><td>nan</td><td>True</td><td>0.000e+00</td></tr>\n",
       "<tr><td>t_index</td><td>-1.600e+00</td><td></td><td>nan</td><td>nan</td><td>False</td><td>0.000e+00</td></tr>\n",
       "</table>"
      ],
      "text/plain": [
       "<Table length=6>\n",
       "   name     value         unit        min     max   frozen   error  \n",
       "   str9    float64       str14      float64 float64  bool    int64  \n",
       "--------- ---------- -------------- ------- ------- ------ ---------\n",
       "    index  5.400e+00                    nan     nan  False 0.000e+00\n",
       "amplitude  4.100e-10 cm-2 s-1 TeV-1     nan     nan  False 0.000e+00\n",
       "reference  4.750e-01            TeV     nan     nan   True 0.000e+00\n",
       "       t0  1.000e+00              s     nan     nan   True 0.000e+00\n",
       "    t_ref  5.054e+09              s     nan     nan   True 0.000e+00\n",
       "  t_index -1.600e+00                    nan     nan  False 0.000e+00"
      ]
     },
     "execution_count": 10,
     "metadata": {},
     "output_type": "execute_result"
    }
   ],
   "source": [
    "# Look at the model\n",
    "model_simu.parameters.to_table()"
   ]
  },
  {
   "cell_type": "markdown",
   "metadata": {},
   "source": [
    "Now, define the start and observation livetime wrt to the reference time, `gti_t0`"
   ]
  },
  {
   "cell_type": "code",
   "execution_count": 11,
   "metadata": {},
   "outputs": [],
   "source": [
    "#n_obs = 10\n",
    "#tstart = [1, 2, 3, 5, 8, 9, 22, 24, 25, 26] * u.h\n",
    "#lvtm = [55, 25, 26, 40, 40, 50, 40, 52, 43, 47] * u.min\n",
    "\n",
    "# From tab.1 of paper\n",
    "n_obs = 6\n",
    "tstart = [62, 100, 140, 210, 361.5, 800] * u.s\n",
    "lvtm = [38, 40, 70, 151.5, 438.5, 1654] * u.s"
   ]
  },
  {
   "cell_type": "markdown",
   "metadata": {},
   "source": [
    "Now perform the simulations"
   ]
  },
  {
   "cell_type": "code",
   "execution_count": 12,
   "metadata": {},
   "outputs": [],
   "source": [
    "datasets = Datasets()\n",
    "\n",
    "empty = SpectrumDataset.create(\n",
    "    e_reco=energy_axis.edges,\n",
    "    e_true=energy_axis_true.edges,\n",
    "    region=on_region,\n",
    "    name=\"empty\",\n",
    ")\n",
    "\n",
    "for i in range(n_obs):\n",
    "    obs = Observation.create(\n",
    "        pointing=pointing,\n",
    "        livetime=lvtm[i],\n",
    "        tstart=tstart[i],\n",
    "        irfs=irfs,\n",
    "        reference_time=gti_t0,\n",
    "    )\n",
    "    empty_i = empty.copy(name=f\"dataset_{i}\")\n",
    "    maker = SpectrumDatasetMaker(selection=[\"aeff\", \"background\", \"edisp\"])\n",
    "    dataset = maker.run(empty_i, obs)\n",
    "    dataset.models = model_simu\n",
    "    dataset.fake()\n",
    "    datasets.append(dataset)"
   ]
  },
  {
   "cell_type": "markdown",
   "metadata": {},
   "source": [
    "The reduced datasets have been successfully simulated. Let's take a quick look into our datasets."
   ]
  },
  {
   "cell_type": "code",
   "execution_count": 13,
   "metadata": {},
   "outputs": [
    {
     "data": {
      "text/html": [
       "<i>Table length=6</i>\n",
       "<table id=\"table140631937994088\" class=\"table-striped table-bordered table-condensed\">\n",
       "<thead><tr><th>name</th><th>livetime</th><th>n_on</th><th>background</th><th>excess</th><th>significance</th><th>background_rate</th><th>gamma_rate</th></tr></thead>\n",
       "<thead><tr><th></th><th>s</th><th></th><th></th><th></th><th></th><th>1 / s</th><th>1 / s</th></tr></thead>\n",
       "<thead><tr><th>str9</th><th>float64</th><th>int64</th><th>float64</th><th>float64</th><th>float64</th><th>float64</th><th>float64</th></tr></thead>\n",
       "<tr><td>stacked</td><td>38.0</td><td>1007072</td><td>0.1469753014257728</td><td>1007071.8530246986</td><td>5448.72281579579</td><td>0.003867771090151916</td><td>26501.890869071016</td></tr>\n",
       "<tr><td>dataset_1</td><td>40.0</td><td>729367</td><td>0.15471084360607665</td><td>729366.8452891564</td><td>4577.811946127828</td><td>0.003867771090151916</td><td>18234.171132228912</td></tr>\n",
       "<tr><td>dataset_2</td><td>70.0</td><td>854198</td><td>0.27074397631063407</td><td>854197.7292560237</td><td>4884.352196223488</td><td>0.0038677710901519153</td><td>12202.824703657481</td></tr>\n",
       "<tr><td>dataset_3</td><td>151.5</td><td>1036062</td><td>0.5859673201580153</td><td>1036061.41403268</td><td>5266.523468794762</td><td>0.0038677710901519166</td><td>6838.689201535842</td></tr>\n",
       "<tr><td>dataset_4</td><td>438.5</td><td>1198357</td><td>1.6960176230316153</td><td>1198355.3039823768</td><td>5466.50370452507</td><td>0.003867771090151916</td><td>2732.8513203703005</td></tr>\n",
       "<tr><td>dataset_5</td><td>1654.0</td><td>1080168</td><td>6.39729338311127</td><td>1080161.602706617</td><td>4882.940281066352</td><td>0.0038677710901519166</td><td>653.0602192905786</td></tr>\n",
       "</table>"
      ],
      "text/plain": [
       "<Table length=6>\n",
       "   name   livetime   n_on  ...    background_rate        gamma_rate    \n",
       "             s             ...         1 / s               1 / s       \n",
       "   str9   float64   int64  ...        float64             float64      \n",
       "--------- -------- ------- ... --------------------- ------------------\n",
       "  stacked     38.0 1007072 ...  0.003867771090151916 26501.890869071016\n",
       "dataset_1     40.0  729367 ...  0.003867771090151916 18234.171132228912\n",
       "dataset_2     70.0  854198 ... 0.0038677710901519153 12202.824703657481\n",
       "dataset_3    151.5 1036062 ... 0.0038677710901519166  6838.689201535842\n",
       "dataset_4    438.5 1198357 ...  0.003867771090151916 2732.8513203703005\n",
       "dataset_5   1654.0 1080168 ... 0.0038677710901519166  653.0602192905786"
      ]
     },
     "execution_count": 13,
     "metadata": {},
     "output_type": "execute_result"
    }
   ],
   "source": [
    "datasets.info_table()"
   ]
  },
  {
   "cell_type": "markdown",
   "metadata": {},
   "source": [
    "## 1. Extract the lightcurve\n",
    "\n",
    "- Using LightCurveEstimator\n",
    "- Temporal model not accounted"
   ]
  },
  {
   "cell_type": "code",
   "execution_count": 14,
   "metadata": {},
   "outputs": [],
   "source": [
    "# Define the model:\n",
    "spectral_model = PowerLawSpectralModel(\n",
    "    index=5.4, amplitude=\"4.1e-10 cm-2 s-1 TeV-1\", reference=\"0.475 TeV\"\n",
    ")\n",
    "model_fit = SkyModel(spectral_model=spectral_model, name=\"model-fit\")"
   ]
  },
  {
   "cell_type": "code",
   "execution_count": 15,
   "metadata": {},
   "outputs": [],
   "source": [
    "# Attach model to each dataset\n",
    "for dataset in datasets:\n",
    "    dataset.models = model_fit"
   ]
  },
  {
   "cell_type": "code",
   "execution_count": 16,
   "metadata": {},
   "outputs": [
    {
     "name": "stdout",
     "output_type": "stream",
     "text": [
      "CPU times: user 620 ms, sys: 4.38 ms, total: 624 ms\n",
      "Wall time: 628 ms\n"
     ]
    }
   ],
   "source": [
    "%%time\n",
    "lc_maker_1d = LightCurveEstimator(\n",
    "    energy_range=[energy_axis.edges[0], energy_axis.edges[-1]],\n",
    "    source=\"model-fit\",\n",
    "    reoptimize=False,\n",
    ")\n",
    "lc_1d = lc_maker_1d.run(datasets)"
   ]
  },
  {
   "cell_type": "code",
   "execution_count": 17,
   "metadata": {},
   "outputs": [
    {
     "data": {
      "image/png": "[encoded data removed]",
      "text/plain": [
       "<Figure size 432x288 with 1 Axes>"
      ]
     },
     "metadata": {
      "needs_background": "light"
     },
     "output_type": "display_data"
    }
   ],
   "source": [
    "ax = lc_1d.plot(marker=\"o\")\n",
    "ax.set_yscale('log')"
   ]
  },
  {
   "cell_type": "code",
   "execution_count": 18,
   "metadata": {},
   "outputs": [
    {
     "data": {
      "text/html": [
       "<i>Table length=6</i>\n",
       "<table id=\"table140631944254184\" class=\"table-striped table-bordered table-condensed\">\n",
       "<thead><tr><th>time_min</th><th>time_max</th><th>e_ref</th><th>e_min</th><th>e_max</th><th>ref_dnde</th><th>ref_flux</th><th>ref_eflux</th><th>ref_e2dnde</th><th>norm</th><th>stat</th><th>norm_err</th><th>norm_errp</th><th>norm_errn</th><th>norm_ul</th><th>sqrt_ts</th><th>ts</th><th>null_value</th><th>norm_scan [11]</th><th>stat_scan [11]</th><th>counts</th><th>flux</th><th>flux_ul</th><th>flux_err</th><th>flux_errp</th><th>flux_errn</th></tr></thead>\n",
       "<thead><tr><th></th><th></th><th>TeV</th><th>TeV</th><th>TeV</th><th>1 / (cm2 s TeV)</th><th>1 / (cm2 s)</th><th>TeV / (cm2 s)</th><th>TeV / (cm2 s)</th><th></th><th></th><th></th><th></th><th></th><th></th><th></th><th></th><th></th><th></th><th></th><th></th><th>1 / (cm2 s)</th><th>1 / (cm2 s)</th><th>1 / (cm2 s)</th><th>1 / (cm2 s)</th><th>1 / (cm2 s)</th></tr></thead>\n",
       "<thead><tr><th>float64</th><th>float64</th><th>float64</th><th>float64</th><th>float64</th><th>float64</th><th>float64</th><th>float64</th><th>float64</th><th>float64</th><th>float64</th><th>float64</th><th>float64</th><th>float64</th><th>float64</th><th>float64</th><th>float64</th><th>int64</th><th>float64</th><th>float64</th><th>int64</th><th>float64</th><th>float64</th><th>float64</th><th>float64</th><th>float64</th></tr></thead>\n",
       "<tr><td>58497.87446972222</td><td>58497.87490953704</td><td>1.7782794100389232</td><td>0.316227766016838</td><td>10.000000000000002</td><td>3.287981374321955e-13</td><td>2.651408004814533e-10</td><td>1.0850430809486839e-10</td><td>1.0397510047068048e-12</td><td>26362.9299776876</td><td>-24252492.656935092</td><td>26.2702719124774</td><td>26.32671038503499</td><td>26.214387320949417</td><td>26415.579731776994</td><td>5487.036134734243</td><td>30107565.543879308</td><td>0</td><td>0.20000000000000004 .. 5.000000000000001</td><td>-2559293.519710618 .. -9006025.730736412</td><td>1007072</td><td>6.9898883573205924e-06</td><td>7.003847955265006e-06</td><td>6.965320923739698e-09</td><td>6.980285065531567e-09</td><td>6.950503638407389e-09</td></tr>\n",
       "<tr><td>58497.87490953704</td><td>58497.8753725</td><td>1.7782794100389232</td><td>0.316227766016838</td><td>10.000000000000002</td><td>3.287981374321955e-13</td><td>2.651408004814533e-10</td><td>1.0850430809486839e-10</td><td>1.0397510047068048e-12</td><td>18138.520819040543</td><td>-17093711.80890871</td><td>21.238835618755314</td><td>21.32053713120034</td><td>21.15848165211404</td><td>18181.14022558148</td><td>4610.815728645516</td><td>21259621.68352488</td><td>0</td><td>0.20000000000000004 .. 5.000000000000001</td><td>-1928003.8783682494 .. -6596856.420887119</td><td>729367</td><td>4.809261929509916e-06</td><td>4.820562073076224e-06</td><td>5.631281877250787e-09</td><td>5.652944281661006e-09</td><td>5.6099767622136595e-09</td></tr>\n",
       "<tr><td>58497.8753725</td><td>58497.876182685184</td><td>1.7782794100389232</td><td>0.316227766016838</td><td>10.000000000000002</td><td>3.287981374321955e-13</td><td>2.651408004814533e-10</td><td>1.0850430809486839e-10</td><td>1.0397510047068048e-12</td><td>12138.751269567472</td><td>-20288774.06556394</td><td>13.133963203385361</td><td>13.249869039486248</td><td>13.019270044821676</td><td>12165.148792138245</td><td>4920.551582996747</td><td>24211827.880931795</td><td>0</td><td>0.20000000000000004 .. 5.000000000000001</td><td>-3213597.5195927783 .. -8681294.909436895</td><td>854198</td><td>3.2184782284583774e-06</td><td>3.225477288723519e-06</td><td>3.4823495172395478e-09</td><td>3.5130808834038087e-09</td><td>3.4519396813682256e-09</td></tr>\n",
       "<tr><td>58497.876182685184</td><td>58497.877936157405</td><td>1.7782794100389232</td><td>0.316227766016838</td><td>10.000000000000002</td><td>3.287981374321955e-13</td><td>2.651408004814533e-10</td><td>1.0850430809486839e-10</td><td>1.0397510047068048e-12</td><td>6802.828430683077</td><td>-25005955.005089764</td><td>6.683370666961142</td><td>6.700185717254936</td><td>6.666298495269189</td><td>6816.226548667914</td><td>5307.111001179863</td><td>28165427.178844325</td><td>0</td><td>0.20000000000000004 .. 5.000000000000001</td><td>-5495300.988190613 .. -12126411.773690227</td><td>1036062</td><td>1.8037073756493e-06</td><td>1.8072597633767447e-06</td><td>1.7720342485523417e-09</td><td>1.7764926044473741e-09</td><td>1.7675077192839805e-09</td></tr>\n",
       "<tr><td>58497.877936157405</td><td>58497.88301138889</td><td>1.7782794100389232</td><td>0.316227766016838</td><td>10.000000000000002</td><td>3.287981374321955e-13</td><td>2.651408004814533e-10</td><td>1.0850430809486839e-10</td><td>1.0397510047068048e-12</td><td>2718.527943573934</td><td>-29276870.189558294</td><td>2.4833779614911693</td><td>2.4828945135163303</td><td>2.483876076227639</td><td>2723.497343573769</td><td>5511.973088634469</td><td>30381847.329830606</td><td>0</td><td>0.20000000000000004 .. 5.000000000000001</td><td>-8908112.428871913 .. -16575528.075079408</td><td>1198357</td><td>7.20792675090392e-07</td><td>7.221102657842607e-07</td><td>6.584448206077684e-10</td><td>6.583166388247284e-10</td><td>6.585768911477275e-10</td></tr>\n",
       "<tr><td>58497.88301138889</td><td>58497.9021549074</td><td>1.7782794100389232</td><td>0.316227766016838</td><td>10.000000000000002</td><td>3.287981374321955e-13</td><td>2.651408004814533e-10</td><td>1.0850430809486839e-10</td><td>1.0397510047068048e-12</td><td>649.6374046042586</td><td>-26162366.205336556</td><td>0.6250666566897192</td><td>0.6249691124534599</td><td>0.6251665062866575</td><td>650.8883038944622</td><td>4928.647523769119</td><td>24291566.41355547</td><td>0</td><td>0.20000000000000004 .. 5.000000000000001</td><td>-10894402.469861181 .. -17793407.69029052</td><td>1080168</td><td>1.722453814794669e-07</td><td>1.7257704591859315e-07</td><td>1.657306737089779e-10</td><td>1.6570481075209376e-10</td><td>1.6575714791103788e-10</td></tr>\n",
       "</table>"
      ],
      "text/plain": [
       "<Table length=6>\n",
       "     time_min           time_max      ...       flux_errn       \n",
       "                                      ...      1 / (cm2 s)      \n",
       "     float64            float64       ...        float64        \n",
       "------------------ ------------------ ... ----------------------\n",
       " 58497.87446972222  58497.87490953704 ...  6.950503638407389e-09\n",
       " 58497.87490953704      58497.8753725 ... 5.6099767622136595e-09\n",
       "     58497.8753725 58497.876182685184 ... 3.4519396813682256e-09\n",
       "58497.876182685184 58497.877936157405 ... 1.7675077192839805e-09\n",
       "58497.877936157405  58497.88301138889 ...  6.585768911477275e-10\n",
       " 58497.88301138889   58497.9021549074 ... 1.6575714791103788e-10"
      ]
     },
     "execution_count": 18,
     "metadata": {},
     "output_type": "execute_result"
    }
   ],
   "source": [
    "lc_1d.table"
   ]
  },
  {
   "cell_type": "markdown",
   "metadata": {},
   "source": [
    "## 2. Joint fitting\n",
    "- Directly accounting for a temporal model"
   ]
  },
  {
   "cell_type": "code",
   "execution_count": 19,
   "metadata": {},
   "outputs": [],
   "source": [
    "# Define the model:\n",
    "\n",
    "spectral_model1 = PowerLawSpectralModel(index=5.4, amplitude=\"4.1e-10 cm-2 s-1 TeV-1\", \n",
    "                                       reference=\"0.475 TeV\")\n",
    "temporal_model1 = PowerlawDecayTemporalModel(t0=1 * u.s, t_ref=gti_t0.mjd * u.d, t_index=-1.2)\n",
    "model = SkyModel(\n",
    "    spectral_model=spectral_model1,\n",
    "    temporal_model=temporal_model1,\n",
    "    name=\"model-test\",\n",
    ")"
   ]
  },
  {
   "cell_type": "code",
   "execution_count": 20,
   "metadata": {},
   "outputs": [
    {
     "data": {
      "text/html": [
       "<i>Table length=6</i>\n",
       "<table id=\"table140631939590744\" class=\"table-striped table-bordered table-condensed\">\n",
       "<thead><tr><th>name</th><th>value</th><th>unit</th><th>min</th><th>max</th><th>frozen</th><th>error</th></tr></thead>\n",
       "<thead><tr><th>str9</th><th>float64</th><th>str14</th><th>float64</th><th>float64</th><th>bool</th><th>int64</th></tr></thead>\n",
       "<tr><td>index</td><td>5.400e+00</td><td></td><td>nan</td><td>nan</td><td>False</td><td>0.000e+00</td></tr>\n",
       "<tr><td>amplitude</td><td>4.100e-10</td><td>cm-2 s-1 TeV-1</td><td>nan</td><td>nan</td><td>False</td><td>0.000e+00</td></tr>\n",
       "<tr><td>reference</td><td>4.750e-01</td><td>TeV</td><td>nan</td><td>nan</td><td>True</td><td>0.000e+00</td></tr>\n",
       "<tr><td>t0</td><td>1.000e+00</td><td>s</td><td>nan</td><td>nan</td><td>True</td><td>0.000e+00</td></tr>\n",
       "<tr><td>t_ref</td><td>5.054e+09</td><td>s</td><td>nan</td><td>nan</td><td>True</td><td>0.000e+00</td></tr>\n",
       "<tr><td>t_index</td><td>-1.200e+00</td><td></td><td>nan</td><td>nan</td><td>False</td><td>0.000e+00</td></tr>\n",
       "</table>"
      ],
      "text/plain": [
       "<Table length=6>\n",
       "   name     value         unit        min     max   frozen   error  \n",
       "   str9    float64       str14      float64 float64  bool    int64  \n",
       "--------- ---------- -------------- ------- ------- ------ ---------\n",
       "    index  5.400e+00                    nan     nan  False 0.000e+00\n",
       "amplitude  4.100e-10 cm-2 s-1 TeV-1     nan     nan  False 0.000e+00\n",
       "reference  4.750e-01            TeV     nan     nan   True 0.000e+00\n",
       "       t0  1.000e+00              s     nan     nan   True 0.000e+00\n",
       "    t_ref  5.054e+09              s     nan     nan   True 0.000e+00\n",
       "  t_index -1.200e+00                    nan     nan  False 0.000e+00"
      ]
     },
     "execution_count": 20,
     "metadata": {},
     "output_type": "execute_result"
    }
   ],
   "source": [
    "model.parameters.to_table()"
   ]
  },
  {
   "cell_type": "code",
   "execution_count": 21,
   "metadata": {},
   "outputs": [],
   "source": [
    "model_pars = model.parameters.values"
   ]
  },
  {
   "cell_type": "code",
   "execution_count": 22,
   "metadata": {},
   "outputs": [],
   "source": [
    "for dataset in datasets:\n",
    "    dataset.models = model"
   ]
  },
  {
   "cell_type": "code",
   "execution_count": 23,
   "metadata": {},
   "outputs": [
    {
     "name": "stdout",
     "output_type": "stream",
     "text": [
      "CPU times: user 3.03 s, sys: 6.43 ms, total: 3.04 s\n",
      "Wall time: 3.04 s\n"
     ]
    }
   ],
   "source": [
    "%%time\n",
    "# Do a joint fit\n",
    "fit = Fit(datasets)\n",
    "result = fit.run()"
   ]
  },
  {
   "cell_type": "code",
   "execution_count": 24,
   "metadata": {},
   "outputs": [
    {
     "data": {
      "text/html": [
       "<i>Table length=6</i>\n",
       "<table id=\"table140631939597368\" class=\"table-striped table-bordered table-condensed\">\n",
       "<thead><tr><th>name</th><th>value</th><th>unit</th><th>min</th><th>max</th><th>frozen</th><th>error</th></tr></thead>\n",
       "<thead><tr><th>str9</th><th>float64</th><th>str14</th><th>float64</th><th>float64</th><th>bool</th><th>float64</th></tr></thead>\n",
       "<tr><td>index</td><td>5.400e+00</td><td></td><td>nan</td><td>nan</td><td>False</td><td>1.531e-03</td></tr>\n",
       "<tr><td>amplitude</td><td>4.102e-10</td><td>cm-2 s-1 TeV-1</td><td>nan</td><td>nan</td><td>False</td><td>1.184e-12</td></tr>\n",
       "<tr><td>reference</td><td>4.750e-01</td><td>TeV</td><td>nan</td><td>nan</td><td>True</td><td>0.000e+00</td></tr>\n",
       "<tr><td>t0</td><td>1.000e+00</td><td>s</td><td>nan</td><td>nan</td><td>True</td><td>0.000e+00</td></tr>\n",
       "<tr><td>t_ref</td><td>5.054e+09</td><td>s</td><td>nan</td><td>nan</td><td>True</td><td>0.000e+00</td></tr>\n",
       "<tr><td>t_index</td><td>-1.600e+00</td><td></td><td>nan</td><td>nan</td><td>False</td><td>5.241e-04</td></tr>\n",
       "</table>"
      ],
      "text/plain": [
       "<Table length=6>\n",
       "   name     value         unit        min     max   frozen   error  \n",
       "   str9    float64       str14      float64 float64  bool   float64 \n",
       "--------- ---------- -------------- ------- ------- ------ ---------\n",
       "    index  5.400e+00                    nan     nan  False 1.531e-03\n",
       "amplitude  4.102e-10 cm-2 s-1 TeV-1     nan     nan  False 1.184e-12\n",
       "reference  4.750e-01            TeV     nan     nan   True 0.000e+00\n",
       "       t0  1.000e+00              s     nan     nan   True 0.000e+00\n",
       "    t_ref  5.054e+09              s     nan     nan   True 0.000e+00\n",
       "  t_index -1.600e+00                    nan     nan  False 5.241e-04"
      ]
     },
     "execution_count": 24,
     "metadata": {},
     "output_type": "execute_result"
    }
   ],
   "source": [
    "result.parameters.to_table()"
   ]
  },
  {
   "cell_type": "code",
   "execution_count": 25,
   "metadata": {},
   "outputs": [
    {
     "data": {
      "text/plain": [
       "array([ 5.40036715e+00,  4.10232306e-10,  4.75000000e-01,  1.00000000e+00,\n",
       "        5.05421622e+09, -1.59994899e+00])"
      ]
     },
     "execution_count": 25,
     "metadata": {},
     "output_type": "execute_result"
    }
   ],
   "source": [
    "result.parameters.values"
   ]
  },
  {
   "cell_type": "markdown",
   "metadata": {},
   "source": [
    "We see that the fitted parameters match well with the simulated ones:"
   ]
  },
  {
   "cell_type": "code",
   "execution_count": 26,
   "metadata": {},
   "outputs": [
    {
     "data": {
      "text/plain": [
       "array([ 5.40000000e+00,  4.10000000e-10,  4.75000000e-01,  1.00000000e+00,\n",
       "        5.05421622e+09, -1.20000000e+00])"
      ]
     },
     "execution_count": 26,
     "metadata": {},
     "output_type": "execute_result"
    }
   ],
   "source": [
    "model_pars"
   ]
  },
  {
   "cell_type": "code",
   "execution_count": 27,
   "metadata": {},
   "outputs": [],
   "source": [
    "cnts = []\n",
    "npreds = []\n",
    "times = []\n",
    "lvtm = []\n",
    "exposure = []\n",
    "for ds in datasets:\n",
    "    cnts.append(ds.counts.data.sum())\n",
    "    npreds.append(ds.npred().data.sum())\n",
    "    lvtm.append(ds.livetime.value)\n",
    "    exposure.append(ds.exposure.data.sum())\n",
    "    times.append((ds.gti.time_start + ds.gti.time_delta/2.0).mjd)\n",
    "residuals = (np.array(cnts) - np.array(npreds))/np.array(npreds)"
   ]
  },
  {
   "cell_type": "code",
   "execution_count": 28,
   "metadata": {},
   "outputs": [
    {
     "data": {
      "text/plain": [
       "<matplotlib.lines.Line2D at 0x7fe76d451ac8>"
      ]
     },
     "execution_count": 28,
     "metadata": {},
     "output_type": "execute_result"
    },
    {
     "data": {
      "image/png": "[encoded data removed]",
      "text/plain": [
       "<Figure size 864x288 with 2 Axes>"
      ]
     },
     "metadata": {
      "needs_background": "light"
     },
     "output_type": "display_data"
    }
   ],
   "source": [
    "fig = plt.figure(figsize=(12, 4))\n",
    "\n",
    "ax1 = fig.add_subplot(2, 1, 1)\n",
    "ax1.plot(times, cnts, \"*\")\n",
    "ax1.plot(times, npreds, \"+\")\n",
    "\n",
    "ax2 = fig.add_subplot(2, 1, 2)\n",
    "ax2.plot(times, residuals, \"o\")\n",
    "ax2.axhline(0, color=\"black\", lw=0.5)"
   ]
  }
 ],
 "metadata": {
  "kernelspec": {
   "display_name": "Python 3",
   "language": "python",
   "name": "python3"
  },
  "language_info": {
   "codemirror_mode": {
    "name": "ipython",
    "version": 3
   },
   "file_extension": ".py",
   "mimetype": "text/x-python",
   "name": "python",
   "nbconvert_exporter": "python",
   "pygments_lexer": "ipython3",
   "version": "3.7.0"
  }
 },
 "nbformat": 4,
 "nbformat_minor": 4
}
