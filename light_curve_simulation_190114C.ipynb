{
 "cells": [
  {
   "cell_type": "markdown",
   "metadata": {},
   "source": [
    "# Light curve simulation and fitting\n",
    "\n",
    "- https://docs.gammapy.org/dev/tutorials/light_curve_simulation.html\n",
    "\n",
    "- This tutorial explains how to use the temporal models for simulations.\n",
    "\n",
    "- Frequently, studies of variable sources (eg: decaying GRB light curves, AGN flares, etc) require time variable simulations. For most use cases, it is not necessary to generate an event list sampling all events, but generating fake reduced observations in time bins according to a given temporal model suffices \n",
    "\n",
    "**Objective: Simulate and fit a time decaying light curve of a source with CTA using the CTA 1DC response**\n",
    "\n",
    "\n"
   ]
  },
  {
   "cell_type": "markdown",
   "metadata": {},
   "source": [
    "## Setup"
   ]
  },
  {
   "cell_type": "code",
   "execution_count": 1,
   "metadata": {},
   "outputs": [],
   "source": [
    "%matplotlib inline\n",
    "import matplotlib.pyplot as plt\n",
    "import numpy as np\n",
    "import astropy.units as u\n",
    "from astropy.coordinates import SkyCoord, Angle\n",
    "from astropy.time import Time\n",
    "from regions import CircleSkyRegion\n",
    "\n",
    "import logging\n",
    "\n",
    "log = logging.getLogger(__name__)"
   ]
  },
  {
   "cell_type": "markdown",
   "metadata": {},
   "source": [
    "And some gammapy specific imports"
   ]
  },
  {
   "cell_type": "code",
   "execution_count": 2,
   "metadata": {},
   "outputs": [],
   "source": [
    "from gammapy.data import Observation\n",
    "from gammapy.irf import load_cta_irfs\n",
    "from gammapy.datasets import SpectrumDataset, Datasets\n",
    "from gammapy.modeling.models import (\n",
    "    PowerLawSpectralModel,\n",
    "    ExpDecayTemporalModel,\n",
    "    SkyModel,\n",
    "    LightCurveTemplateTemporalModel,\n",
    ")\n",
    "from gammapy.maps import MapAxis\n",
    "from gammapy.estimators import LightCurveEstimator\n",
    "from gammapy.makers import SpectrumDatasetMaker\n",
    "from gammapy.modeling import Fit"
   ]
  },
  {
   "cell_type": "markdown",
   "metadata": {},
   "source": [
    "Define class for a power law temporal decay model:"
   ]
  },
  {
   "cell_type": "code",
   "execution_count": 3,
   "metadata": {},
   "outputs": [],
   "source": [
    "# An exponential decay (just for test)\n",
    "from gammapy.modeling.models import TemporalModel\n",
    "from gammapy.modeling import Parameter\n",
    "class MyTemporalModel(TemporalModel):\n",
    "    \"\"\"Temporal model with an exponential decay.\n",
    "        ..math::\n",
    "                F(t) = exp(t - t_ref)/t0\n",
    "    Parameters\n",
    "    ----------\n",
    "    t0 : `~astropy.units.Quantity`\n",
    "        Decay time scale\n",
    "    t_ref: `~astropy.units.Quantity`\n",
    "        The reference time in mjd\n",
    "    \"\"\"\n",
    "\n",
    "    tag = \"ExponentialDecayTemporalModel\"\n",
    "\n",
    "    t0 = Parameter(\"t0\", \"1 d\", frozen=False)\n",
    "\n",
    "    _t_ref_default = Time(\"2000-01-01\")\n",
    "    t_ref = Parameter(\"t_ref\", _t_ref_default.mjd, unit=\"day\", frozen=True)\n",
    "\n",
    "    @staticmethod\n",
    "    def evaluate(time, t0, t_ref):\n",
    "        \"\"\"Evaluate at given times\"\"\"\n",
    "        return np.exp(-(time - t_ref) / t0)\n",
    "\n",
    "    def integral(self, t_min, t_max):\n",
    "        \"\"\"Evaluate the integrated flux within the given time intervals\n",
    "        Parameters\n",
    "        ----------\n",
    "        t_min: `~astropy.time.Time`\n",
    "            Start times of observation\n",
    "        t_max: `~astropy.time.Time`\n",
    "            Stop times of observation\n",
    "        Returns\n",
    "        -------\n",
    "        norm : float\n",
    "            Integrated flux norm on the given time intervals\n",
    "        \"\"\"\n",
    "        pars = self.parameters\n",
    "        t0 = pars[\"t0\"].quantity\n",
    "        t_ref = Time(pars[\"t_ref\"].quantity, format=\"mjd\")\n",
    "        value = self.evaluate(t_max, t0, t_ref) - self.evaluate(t_min, t0, t_ref)\n",
    "        return -t0 * value / self.time_sum(t_min, t_max)"
   ]
  },
  {
   "cell_type": "code",
   "execution_count": 4,
   "metadata": {},
   "outputs": [],
   "source": [
    "from gammapy.modeling.models import TemporalModel\n",
    "from gammapy.modeling import Parameter\n",
    "class PowerlawDecayTemporalModel(TemporalModel):\n",
    "    \"\"\"Temporal model with a power law decay.\n",
    "        ..math::\n",
    "                np.power(( (time - t_ref) / t0 ), index)\n",
    "    Parameters\n",
    "    ----------\n",
    "    t0 : `~astropy.units.Quantity`\n",
    "        Decay time scale\n",
    "    t_ref: `~astropy.units.Quantity`\n",
    "        The reference time in mjd\n",
    "    index: `~astropy.units.Quantity`\n",
    "        Power index \n",
    "    \"\"\"\n",
    "\n",
    "    tag = \"PowerlawDecayTemporalModel\"\n",
    "\n",
    "    #t0 = Parameter(\"t0\", \"1 d\", frozen=False)\n",
    "    t0 = Parameter(\"t0\", 1., unit=\"day\", frozen=False)\n",
    "\n",
    "    _t_ref_default = Time(\"2000-01-01\")\n",
    "    t_ref = Parameter(\"t_ref\", _t_ref_default.mjd, unit=\"day\", frozen=True)\n",
    "    \n",
    "    t_index = Parameter(\"t_index\", -2.0)\n",
    "\n",
    "    @staticmethod\n",
    "    def evaluate(time, t0, t_ref, t_index):\n",
    "        \"\"\"Evaluate at given times\"\"\"\n",
    "        return np.power(( (time - t_ref) / t0 ), t_index)\n",
    "\n",
    "    def integral(self, t_min, t_max):\n",
    "        \"\"\"Evaluate the integrated flux within the given time intervals\n",
    "        Parameters\n",
    "        ----------\n",
    "        t_min: `~astropy.time.Time`\n",
    "            Start times of observation\n",
    "        t_max: `~astropy.time.Time`\n",
    "            Stop times of observation\n",
    "        Returns\n",
    "        -------\n",
    "        norm : float\n",
    "            Integrated flux norm on the given time intervals\n",
    "        \"\"\"\n",
    "        pars = self.parameters\n",
    "        t0 = pars[\"t0\"].quantity\n",
    "        t_index = pars[\"t_index\"].quantity\n",
    "        t_ref = Time(pars[\"t_ref\"].quantity, format=\"mjd\")\n",
    "        dec1 = t_index+1.0\n",
    "        value = self.evaluate(t_max, t0, t_ref, dec1) - self.evaluate(t_max, t0, t_ref, dec1)\n",
    "        return (t0/dec1) * value / self.time_sum(t_min, t_max)"
   ]
  },
  {
   "cell_type": "markdown",
   "metadata": {},
   "source": [
    "## GRB190114C\n",
    "\n",
    "From paper of MAGIC collaboration (Nature, 575, 455, 2019)\n",
    "\n",
    "Redshift: z=0.4245\n",
    "\n",
    "Power law spectrum, with Gamma=5.4, F0=4.1e-10 ph/Tev/cm2/s at E0=0.475 TeV in the 0.3-1 TeV band. \n",
    "\n",
    "Power law light curve, with delta=-1.6 [CAVEAT: there is no power law light curve in gammapy!]\n",
    "\n",
    "T0=14 January 2019, 20:57:03 UTC\n",
    "\n",
    "MAGIC observations started T+57s and lasted T0+15912 s\n",
    "\n",
    "\n",
    "## Simulating a light curve\n",
    "\n",
    "We will simulate 10 datasets using an `PowerLawSpectralModel` and a `ExpDecayTemporalModel`. The important thing to note here is how to attach a different `GTI` to each dataset."
   ]
  },
  {
   "cell_type": "code",
   "execution_count": 5,
   "metadata": {},
   "outputs": [],
   "source": [
    "# Loading IRFs\n",
    "irfs = load_cta_irfs(\n",
    "    \"/Users/giovanni/Works/CTA/gammapy_trans/data/cta/prod2/bcf/South_50h/irf_file.fits.gz\"\n",
    ")"
   ]
  },
  {
   "cell_type": "code",
   "execution_count": 6,
   "metadata": {},
   "outputs": [],
   "source": [
    "# Reconstructed and true energy axis\n",
    "center = SkyCoord(0.0, 0.0, unit=\"deg\", frame=\"galactic\")\n",
    "\n",
    "# [Generate an axis object from a sequence of bin edges: \n",
    "# This method should be used to construct an axis where the bin edges \n",
    "# should lie at specific values (e.g. a histogram). \n",
    "# The number of bins will be one less than the number of edges.\n",
    "# 0.32-10.0 TeV (true: 0.05-10 TeV)]\n",
    "energy_axis = MapAxis.from_edges(\n",
    "    np.logspace(-0.5, 1.0, 10), unit=\"TeV\", name=\"energy\", interp=\"log\"\n",
    ")\n",
    "energy_axis_true = MapAxis.from_edges(\n",
    "    np.logspace(-1.2, 2.0, 31), unit=\"TeV\", name=\"energy_true\", interp=\"log\"\n",
    ")\n",
    "\n",
    "on_region_radius = Angle(\"0.11 deg\")\n",
    "on_region = CircleSkyRegion(center=center, radius=on_region_radius)"
   ]
  },
  {
   "cell_type": "code",
   "execution_count": 7,
   "metadata": {},
   "outputs": [],
   "source": [
    "# Pointing position\n",
    "pointing = SkyCoord(0.5, 0.5, unit=\"deg\", frame=\"galactic\")"
   ]
  },
  {
   "cell_type": "code",
   "execution_count": 8,
   "metadata": {},
   "outputs": [],
   "source": [
    "# Define the source model: A combination of spectral and temporal model\n",
    "\n",
    "# [Start time]\n",
    "gti_t0 = Time(\"2019-01-14 20:57:03\")\n",
    "\n",
    "\n",
    "# [F(E)=F0(E/E0)^Gamma where index= photon index, amplitude = F(E0), reference=E0]\n",
    "spectral_model = PowerLawSpectralModel(\n",
    "#    index=2.2, amplitude=\"1e-11 cm-2 s-1 TeV-1\", reference=\"1 TeV\"\n",
    "    index=5.4, amplitude=\"4.1e-10 cm-2 s-1 TeV-1\", reference=\"0.475 TeV\"\n",
    ")\n",
    "\n",
    "# Temporal model\n",
    "# test  (it works)\n",
    "# temporal_model = MyTemporalModel(t0=\"6 h\", t_ref=gti_t0.mjd * u.d)\n",
    "# power law temporal model\n",
    "temporal_model = PowerlawDecayTemporalModel(t0=6 * u.day, t_ref=gti_t0.mjd * u.d, t_index=-1.6)\n",
    "\n",
    "# [F(t,E)=F(E)*exp((t-t_ref)/t0)]\n",
    "model_simu = SkyModel(\n",
    "    spectral_model=spectral_model,\n",
    "    temporal_model=temporal_model,\n",
    "    name=\"model-simu\",\n",
    ")\n"
   ]
  },
  {
   "cell_type": "code",
   "execution_count": 9,
   "metadata": {},
   "outputs": [
    {
     "data": {
      "text/html": [
       "<i>Table length=6</i>\n",
       "<table id=\"table140603738764736\" class=\"table-striped table-bordered table-condensed\">\n",
       "<thead><tr><th>name</th><th>value</th><th>unit</th><th>min</th><th>max</th><th>frozen</th><th>error</th></tr></thead>\n",
       "<thead><tr><th>str9</th><th>float64</th><th>str14</th><th>float64</th><th>float64</th><th>bool</th><th>int64</th></tr></thead>\n",
       "<tr><td>index</td><td>5.400e+00</td><td></td><td>nan</td><td>nan</td><td>False</td><td>0.000e+00</td></tr>\n",
       "<tr><td>amplitude</td><td>4.100e-10</td><td>cm-2 s-1 TeV-1</td><td>nan</td><td>nan</td><td>False</td><td>0.000e+00</td></tr>\n",
       "<tr><td>reference</td><td>4.750e-01</td><td>TeV</td><td>nan</td><td>nan</td><td>True</td><td>0.000e+00</td></tr>\n",
       "<tr><td>t0</td><td>6.000e+00</td><td>d</td><td>nan</td><td>nan</td><td>False</td><td>0.000e+00</td></tr>\n",
       "<tr><td>t_ref</td><td>5.850e+04</td><td>d</td><td>nan</td><td>nan</td><td>True</td><td>0.000e+00</td></tr>\n",
       "<tr><td>t_index</td><td>-1.600e+00</td><td></td><td>nan</td><td>nan</td><td>False</td><td>0.000e+00</td></tr>\n",
       "</table>"
      ],
      "text/plain": [
       "<Table length=6>\n",
       "   name     value         unit        min     max   frozen   error  \n",
       "   str9    float64       str14      float64 float64  bool    int64  \n",
       "--------- ---------- -------------- ------- ------- ------ ---------\n",
       "    index  5.400e+00                    nan     nan  False 0.000e+00\n",
       "amplitude  4.100e-10 cm-2 s-1 TeV-1     nan     nan  False 0.000e+00\n",
       "reference  4.750e-01            TeV     nan     nan   True 0.000e+00\n",
       "       t0  6.000e+00              d     nan     nan  False 0.000e+00\n",
       "    t_ref  5.850e+04              d     nan     nan   True 0.000e+00\n",
       "  t_index -1.600e+00                    nan     nan  False 0.000e+00"
      ]
     },
     "execution_count": 9,
     "metadata": {},
     "output_type": "execute_result"
    }
   ],
   "source": [
    "# Look at the model\n",
    "model_simu.parameters.to_table()"
   ]
  },
  {
   "cell_type": "markdown",
   "metadata": {},
   "source": [
    "Now, define the start and observation livetime wrt to the reference time, `gti_t0`"
   ]
  },
  {
   "cell_type": "code",
   "execution_count": 10,
   "metadata": {},
   "outputs": [],
   "source": [
    "#n_obs = 10\n",
    "#tstart = [1, 2, 3, 5, 8, 9, 22, 24, 25, 26] * u.h\n",
    "#lvtm = [55, 25, 26, 40, 40, 50, 40, 52, 43, 47] * u.min\n",
    "\n",
    "# From tab.1 of paper\n",
    "n_obs = 6\n",
    "tstart = [62, 100, 140, 210, 361.5, 800] * u.s\n",
    "lvtm = [38, 40, 70, 151.5, 438.5, 1654] * u.s"
   ]
  },
  {
   "cell_type": "markdown",
   "metadata": {},
   "source": [
    "Now perform the simulations"
   ]
  },
  {
   "cell_type": "code",
   "execution_count": 11,
   "metadata": {},
   "outputs": [],
   "source": [
    "datasets = Datasets()\n",
    "\n",
    "empty = SpectrumDataset.create(\n",
    "    e_reco=energy_axis.edges,\n",
    "    e_true=energy_axis_true.edges,\n",
    "    region=on_region,\n",
    "    name=\"empty\",\n",
    ")\n",
    "\n",
    "for i in range(n_obs):\n",
    "    obs = Observation.create(\n",
    "        pointing=pointing,\n",
    "        livetime=lvtm[i],\n",
    "        tstart=tstart[i],\n",
    "        irfs=irfs,\n",
    "        reference_time=gti_t0,\n",
    "    )\n",
    "    empty_i = empty.copy(name=f\"dataset_{i}\")\n",
    "    maker = SpectrumDatasetMaker(selection=[\"aeff\", \"background\", \"edisp\"])\n",
    "    dataset = maker.run(empty_i, obs)\n",
    "    dataset.models = model_simu\n",
    "    dataset.fake()\n",
    "    datasets.append(dataset)"
   ]
  },
  {
   "cell_type": "markdown",
   "metadata": {},
   "source": [
    "The reduced datasets have been successfully simulated. Let's take a quick look into our datasets."
   ]
  },
  {
   "cell_type": "code",
   "execution_count": 12,
   "metadata": {},
   "outputs": [
    {
     "data": {
      "text/html": [
       "<i>Table length=6</i>\n",
       "<table id=\"table140603738764792\" class=\"table-striped table-bordered table-condensed\">\n",
       "<thead><tr><th>name</th><th>livetime</th><th>n_on</th><th>background</th><th>excess</th><th>significance</th><th>background_rate</th><th>gamma_rate</th></tr></thead>\n",
       "<thead><tr><th></th><th>s</th><th></th><th></th><th></th><th></th><th>1 / s</th><th>1 / s</th></tr></thead>\n",
       "<thead><tr><th>str9</th><th>float64</th><th>int64</th><th>float64</th><th>float64</th><th>float64</th><th>float64</th><th>float64</th></tr></thead>\n",
       "<tr><td>stacked</td><td>38.0</td><td>0</td><td>0.1469753014257728</td><td>-0.1469753014257728</td><td>-0.5421721155237934</td><td>0.003867771090151916</td><td>-0.003867771090151916</td></tr>\n",
       "<tr><td>dataset_1</td><td>40.0</td><td>0</td><td>0.15471084360607665</td><td>-0.15471084360607665</td><td>-0.5562568536316234</td><td>0.003867771090151916</td><td>-0.003867771090151916</td></tr>\n",
       "<tr><td>dataset_2</td><td>70.0</td><td>1</td><td>0.27074397631063407</td><td>0.7292560236893657</td><td>1.0745469908936833</td><td>0.0038677710901519153</td><td>0.010417943195562367</td></tr>\n",
       "<tr><td>dataset_3</td><td>151.5</td><td>1</td><td>0.5859673201580153</td><td>0.4140326798419847</td><td>0.49083312595351747</td><td>0.0038677710901519166</td><td>0.0027328889758546845</td></tr>\n",
       "<tr><td>dataset_4</td><td>438.5</td><td>2</td><td>1.6960176230316153</td><td>0.30398237696838476</td><td>0.22691905007358554</td><td>0.003867771090151916</td><td>0.0006932323306006494</td></tr>\n",
       "<tr><td>dataset_5</td><td>1654.0</td><td>5</td><td>6.39729338311127</td><td>-1.3972933831112695</td><td>-0.5746442119327164</td><td>0.0038677710901519166</td><td>-0.0008447964831386151</td></tr>\n",
       "</table>"
      ],
      "text/plain": [
       "<Table length=6>\n",
       "   name   livetime  n_on ...    background_rate          gamma_rate      \n",
       "             s           ...         1 / s                 1 / s         \n",
       "   str9   float64  int64 ...        float64               float64        \n",
       "--------- -------- ----- ... --------------------- ----------------------\n",
       "  stacked     38.0     0 ...  0.003867771090151916  -0.003867771090151916\n",
       "dataset_1     40.0     0 ...  0.003867771090151916  -0.003867771090151916\n",
       "dataset_2     70.0     1 ... 0.0038677710901519153   0.010417943195562367\n",
       "dataset_3    151.5     1 ... 0.0038677710901519166  0.0027328889758546845\n",
       "dataset_4    438.5     2 ...  0.003867771090151916  0.0006932323306006494\n",
       "dataset_5   1654.0     5 ... 0.0038677710901519166 -0.0008447964831386151"
      ]
     },
     "execution_count": 12,
     "metadata": {},
     "output_type": "execute_result"
    }
   ],
   "source": [
    "datasets.info_table()"
   ]
  },
  {
   "cell_type": "markdown",
   "metadata": {},
   "source": [
    "## 1. Extract the lightcurve\n",
    "\n",
    "- Using LightCurveEstimator\n",
    "- Temporal model not accounted"
   ]
  },
  {
   "cell_type": "code",
   "execution_count": 13,
   "metadata": {},
   "outputs": [],
   "source": [
    "# Define the model:\n",
    "spectral_model = PowerLawSpectralModel(\n",
    "    index=3, amplitude=\"1e-11 cm-2 s-1 TeV-1\", reference=\"1 TeV\"\n",
    ")\n",
    "model_fit = SkyModel(spectral_model=spectral_model, name=\"model-fit\")"
   ]
  },
  {
   "cell_type": "code",
   "execution_count": 14,
   "metadata": {},
   "outputs": [],
   "source": [
    "# Attach model to each dataset\n",
    "for dataset in datasets:\n",
    "    dataset.models = model_fit"
   ]
  },
  {
   "cell_type": "code",
   "execution_count": 15,
   "metadata": {},
   "outputs": [
    {
     "name": "stderr",
     "output_type": "stream",
     "text": [
      "/Users/giovanni/miniconda3/envs/gammapy-0.17/lib/python3.7/site-packages/gammapy/estimators/parameter_estimator.py:172: RuntimeWarning: invalid value encountered in sqrt\n",
      "  {\"sqrt_ts\": np.sqrt(res), \"ts\": res, \"null_value\": null_value}\n"
     ]
    },
    {
     "name": "stdout",
     "output_type": "stream",
     "text": [
      "CPU times: user 503 ms, sys: 8.33 ms, total: 511 ms\n",
      "Wall time: 525 ms\n"
     ]
    }
   ],
   "source": [
    "%%time\n",
    "lc_maker_1d = LightCurveEstimator(\n",
    "    energy_range=[energy_axis.edges[0], energy_axis.edges[-1]],\n",
    "    source=\"model-fit\",\n",
    "    reoptimize=False,\n",
    ")\n",
    "lc_1d = lc_maker_1d.run(datasets)"
   ]
  },
  {
   "cell_type": "code",
   "execution_count": 16,
   "metadata": {},
   "outputs": [
    {
     "data": {
      "image/png": "[encoded data removed]",
      "text/plain": [
       "<Figure size 432x288 with 1 Axes>"
      ]
     },
     "metadata": {
      "needs_background": "light"
     },
     "output_type": "display_data"
    }
   ],
   "source": [
    "ax = lc_1d.plot(marker=\"o\")"
   ]
  },
  {
   "cell_type": "markdown",
   "metadata": {},
   "source": [
    "## 2. Joint fitting\n",
    "- Directly accounting for a temporal model"
   ]
  },
  {
   "cell_type": "code",
   "execution_count": 67,
   "metadata": {},
   "outputs": [],
   "source": [
    "# Define the model:\n",
    "\n",
    "spectral_model1 = PowerLawSpectralModel(\n",
    "    index=2.0, amplitude=\"1e-12 cm-2 s-1 TeV-1\", reference=\"1 TeV\"\n",
    ")\n",
    "temporal_model1 = ExpDecayTemporalModel(t0=\"10 h\", t_ref=gti_t0.mjd * u.d)\n",
    "model = SkyModel(\n",
    "    spectral_model=spectral_model1,\n",
    "    temporal_model=temporal_model1,\n",
    "    name=\"model-test\",\n",
    ")"
   ]
  },
  {
   "cell_type": "code",
   "execution_count": 68,
   "metadata": {},
   "outputs": [
    {
     "data": {
      "text/html": [
       "<i>Table length=5</i>\n",
       "<table id=\"table140203265051168\" class=\"table-striped table-bordered table-condensed\">\n",
       "<thead><tr><th>name</th><th>value</th><th>unit</th><th>min</th><th>max</th><th>frozen</th><th>error</th></tr></thead>\n",
       "<thead><tr><th>str9</th><th>float64</th><th>str14</th><th>float64</th><th>float64</th><th>bool</th><th>int64</th></tr></thead>\n",
       "<tr><td>index</td><td>2.000e+00</td><td></td><td>nan</td><td>nan</td><td>False</td><td>0.000e+00</td></tr>\n",
       "<tr><td>amplitude</td><td>1.000e-12</td><td>cm-2 s-1 TeV-1</td><td>nan</td><td>nan</td><td>False</td><td>0.000e+00</td></tr>\n",
       "<tr><td>reference</td><td>1.000e+00</td><td>TeV</td><td>nan</td><td>nan</td><td>True</td><td>0.000e+00</td></tr>\n",
       "<tr><td>t0</td><td>4.167e-01</td><td>d</td><td>nan</td><td>nan</td><td>False</td><td>0.000e+00</td></tr>\n",
       "<tr><td>t_ref</td><td>5.850e+04</td><td>d</td><td>nan</td><td>nan</td><td>True</td><td>0.000e+00</td></tr>\n",
       "</table>"
      ],
      "text/plain": [
       "<Table length=5>\n",
       "   name     value        unit        min     max   frozen   error  \n",
       "   str9    float64      str14      float64 float64  bool    int64  \n",
       "--------- --------- -------------- ------- ------- ------ ---------\n",
       "    index 2.000e+00                    nan     nan  False 0.000e+00\n",
       "amplitude 1.000e-12 cm-2 s-1 TeV-1     nan     nan  False 0.000e+00\n",
       "reference 1.000e+00            TeV     nan     nan   True 0.000e+00\n",
       "       t0 4.167e-01              d     nan     nan  False 0.000e+00\n",
       "    t_ref 5.850e+04              d     nan     nan   True 0.000e+00"
      ]
     },
     "execution_count": 68,
     "metadata": {},
     "output_type": "execute_result"
    }
   ],
   "source": [
    "model.parameters.to_table()"
   ]
  },
  {
   "cell_type": "code",
   "execution_count": 39,
   "metadata": {},
   "outputs": [],
   "source": [
    "for dataset in datasets:\n",
    "    dataset.models = model"
   ]
  },
  {
   "cell_type": "code",
   "execution_count": 40,
   "metadata": {},
   "outputs": [
    {
     "name": "stderr",
     "output_type": "stream",
     "text": [
      "/Users/giovanni/miniconda3/envs/gammapy-0.17/lib/python3.7/site-packages/gammapy/maps/regionnd.py:313: RuntimeWarning: overflow encountered in add\n",
      "  self.data += data\n",
      "/Users/giovanni/miniconda3/envs/gammapy-0.17/lib/python3.7/site-packages/astropy/units/quantity.py:477: RuntimeWarning: overflow encountered in exp\n",
      "  result = super().__array_ufunc__(function, method, *arrays, **kwargs)\n"
     ]
    },
    {
     "name": "stdout",
     "output_type": "stream",
     "text": [
      "CPU times: user 1.91 s, sys: 9.74 ms, total: 1.92 s\n",
      "Wall time: 1.95 s\n"
     ]
    }
   ],
   "source": [
    "%%time\n",
    "# Do a joint fit\n",
    "fit = Fit(datasets)\n",
    "result = fit.run()"
   ]
  },
  {
   "cell_type": "code",
   "execution_count": 41,
   "metadata": {},
   "outputs": [
    {
     "data": {
      "text/html": [
       "<i>Table length=5</i>\n",
       "<table id=\"table140203269617144\" class=\"table-striped table-bordered table-condensed\">\n",
       "<thead><tr><th>name</th><th>value</th><th>unit</th><th>min</th><th>max</th><th>frozen</th><th>error</th></tr></thead>\n",
       "<thead><tr><th>str9</th><th>float64</th><th>str14</th><th>float64</th><th>float64</th><th>bool</th><th>float64</th></tr></thead>\n",
       "<tr><td>index</td><td>nan</td><td></td><td>nan</td><td>nan</td><td>False</td><td>nan</td></tr>\n",
       "<tr><td>amplitude</td><td>nan</td><td>cm-2 s-1 TeV-1</td><td>nan</td><td>nan</td><td>False</td><td>nan</td></tr>\n",
       "<tr><td>reference</td><td>1.000e+00</td><td>TeV</td><td>nan</td><td>nan</td><td>True</td><td>0.000e+00</td></tr>\n",
       "<tr><td>t0</td><td>nan</td><td>d</td><td>nan</td><td>nan</td><td>False</td><td>nan</td></tr>\n",
       "<tr><td>t_ref</td><td>5.850e+04</td><td>d</td><td>nan</td><td>nan</td><td>True</td><td>0.000e+00</td></tr>\n",
       "</table>"
      ],
      "text/plain": [
       "<Table length=5>\n",
       "   name     value        unit        min     max   frozen   error  \n",
       "   str9    float64      str14      float64 float64  bool   float64 \n",
       "--------- --------- -------------- ------- ------- ------ ---------\n",
       "    index       nan                    nan     nan  False       nan\n",
       "amplitude       nan cm-2 s-1 TeV-1     nan     nan  False       nan\n",
       "reference 1.000e+00            TeV     nan     nan   True 0.000e+00\n",
       "       t0       nan              d     nan     nan  False       nan\n",
       "    t_ref 5.850e+04              d     nan     nan   True 0.000e+00"
      ]
     },
     "execution_count": 41,
     "metadata": {},
     "output_type": "execute_result"
    }
   ],
   "source": [
    "result.parameters.to_table()"
   ]
  },
  {
   "cell_type": "markdown",
   "metadata": {},
   "source": [
    "We see that the fitted parameters match well with the simulated ones!"
   ]
  },
  {
   "cell_type": "code",
   "execution_count": 22,
   "metadata": {},
   "outputs": [],
   "source": [
    "cnts = []\n",
    "npreds = []\n",
    "times = []\n",
    "lvtm = []\n",
    "exposure = []\n",
    "for ds in datasets:\n",
    "    cnts.append(ds.counts.data.sum())\n",
    "    npreds.append(ds.npred().data.sum())\n",
    "    lvtm.append(ds.livetime.value)\n",
    "    exposure.append(ds.exposure.data.sum())\n",
    "    times.append((ds.gti.time_start + ds.gti.time_delta/2.0).mjd)\n",
    "residuals = (np.array(cnts) - np.array(npreds))/np.array(npreds)"
   ]
  },
  {
   "cell_type": "code",
   "execution_count": 23,
   "metadata": {},
   "outputs": [
    {
     "data": {
      "text/plain": [
       "<matplotlib.lines.Line2D at 0x7f839dba8940>"
      ]
     },
     "execution_count": 23,
     "metadata": {},
     "output_type": "execute_result"
    },
    {
     "data": {
      "image/png": "[encoded data removed]",
      "text/plain": [
       "<Figure size 864x288 with 2 Axes>"
      ]
     },
     "metadata": {
      "needs_background": "light"
     },
     "output_type": "display_data"
    }
   ],
   "source": [
    "fig = plt.figure(figsize=(12, 4))\n",
    "\n",
    "ax1 = fig.add_subplot(2, 1, 1)\n",
    "ax1.plot(times, cnts, \"*\")\n",
    "ax1.plot(times, npreds, \"+\")\n",
    "\n",
    "ax2 = fig.add_subplot(2, 1, 2)\n",
    "ax2.plot(times, residuals, \"o\")\n",
    "ax2.axhline(0, color=\"black\", lw=0.5)"
   ]
  }
 ],
 "metadata": {
  "kernelspec": {
   "display_name": "Python 3",
   "language": "python",
   "name": "python3"
  },
  "language_info": {
   "codemirror_mode": {
    "name": "ipython",
    "version": 3
   },
   "file_extension": ".py",
   "mimetype": "text/x-python",
   "name": "python",
   "nbconvert_exporter": "python",
   "pygments_lexer": "ipython3",
   "version": "3.7.0"
  }
 },
 "nbformat": 4,
 "nbformat_minor": 4
}
