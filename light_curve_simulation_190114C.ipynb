{
 "cells": [
  {
   "cell_type": "markdown",
   "metadata": {},
   "source": [
    "# Light curve simulation and fitting\n",
    "\n",
    "- https://docs.gammapy.org/dev/tutorials/light_curve_simulation.html\n",
    "\n",
    "- This tutorial explains how to use the temporal models for simulations.\n",
    "\n",
    "- Frequently, studies of variable sources (eg: decaying GRB light curves, AGN flares, etc) require time variable simulations. For most use cases, it is not necessary to generate an event list sampling all events, but generating fake reduced observations in time bins according to a given temporal model suffices \n",
    "\n",
    "**Objective: Simulate and fit a time decaying light curve of a source with CTA using the CTA 1DC response**\n",
    "\n",
    "\n"
   ]
  },
  {
   "cell_type": "markdown",
   "metadata": {},
   "source": [
    "## Setup"
   ]
  },
  {
   "cell_type": "code",
   "execution_count": 1,
   "metadata": {},
   "outputs": [],
   "source": [
    "%matplotlib inline\n",
    "import matplotlib.pyplot as plt\n",
    "import numpy as np\n",
    "import astropy.units as u\n",
    "from astropy.coordinates import SkyCoord, Angle\n",
    "from astropy.time import Time\n",
    "from regions import CircleSkyRegion\n",
    "\n",
    "import logging\n",
    "\n",
    "log = logging.getLogger(__name__)"
   ]
  },
  {
   "cell_type": "markdown",
   "metadata": {},
   "source": [
    "And some gammapy specific imports"
   ]
  },
  {
   "cell_type": "code",
   "execution_count": 2,
   "metadata": {},
   "outputs": [
    {
     "name": "stdout",
     "output_type": "stream",
     "text": [
      "gammapy version: 0.17\n"
     ]
    }
   ],
   "source": [
    "import gammapy\n",
    "print(\"gammapy version: {}\".format(gammapy.__version__))"
   ]
  },
  {
   "cell_type": "code",
   "execution_count": 3,
   "metadata": {},
   "outputs": [],
   "source": [
    "from gammapy.data import Observation\n",
    "from gammapy.irf import load_cta_irfs\n",
    "from gammapy.datasets import SpectrumDataset, Datasets\n",
    "from gammapy.modeling.models import (\n",
    "    PowerLawSpectralModel,\n",
    "    ExpDecayTemporalModel,\n",
    "    SkyModel,\n",
    "    LightCurveTemplateTemporalModel,\n",
    ")\n",
    "from gammapy.maps import MapAxis\n",
    "from gammapy.estimators import LightCurveEstimator\n",
    "from gammapy.makers import SpectrumDatasetMaker\n",
    "from gammapy.modeling import Fit"
   ]
  },
  {
   "cell_type": "markdown",
   "metadata": {},
   "source": [
    "## A class for a power law temporal decay model"
   ]
  },
  {
   "cell_type": "code",
   "execution_count": 4,
   "metadata": {},
   "outputs": [],
   "source": [
    "from gammapy.modeling.models import TemporalModel\n",
    "from gammapy.modeling import Parameter\n",
    "class PowerlawDecayTemporalModel(TemporalModel):\n",
    "    \"\"\"Temporal model with a power law decay.\n",
    "        ..math::\n",
    "                np.power(( (time - t_ref) / t0 ), index)\n",
    "    Parameters\n",
    "    ----------\n",
    "    t0 : `~astropy.units.Quantity`\n",
    "        Decay time scale\n",
    "    t_ref: `~astropy.units.Quantity`\n",
    "        The reference time \n",
    "    index: `~astropy.units.Quantity`\n",
    "        Power index \n",
    "    \"\"\"\n",
    "\n",
    "    tag = \"PowerlawDecayTemporalModel\"\n",
    "\n",
    "    t0 = Parameter(\"t0\", 1.*u.s, frozen=True)\n",
    "\n",
    "    _t_ref_default = Time(\"2000-01-01\")\n",
    "    t_ref = Parameter(\"t_ref\", (_t_ref_default.mjd*u.d).to(u.s), frozen=True)\n",
    "    \n",
    "    t_index = Parameter(\"t_index\", -2.0)\n",
    "\n",
    "    @staticmethod\n",
    "    def evaluate(time, t0, t_ref, t_index):\n",
    "        \"\"\"Evaluate at given times\"\"\"\n",
    "        return np.power(( (time - t_ref) / t0 ), t_index)\n",
    "\n",
    "    def integral(self, t_min, t_max):\n",
    "        \"\"\"Evaluate the integrated flux within the given time intervals\n",
    "        Parameters\n",
    "        ----------\n",
    "        t_min: `~astropy.time.Time`\n",
    "            Start times of observation\n",
    "        t_max: `~astropy.time.Time`\n",
    "            Stop times of observation\n",
    "        Returns\n",
    "        -------\n",
    "        norm : float\n",
    "            Integrated flux norm on the given time intervals\n",
    "        \"\"\"\n",
    "        pars = self.parameters\n",
    "        t0 = pars[\"t0\"].quantity\n",
    "        t_index = pars[\"t_index\"].quantity\n",
    "        #t_ref = Time(pars[\"t_ref\"].quantity, format=\"mjd\")\n",
    "        t_ref = pars[\"t_ref\"].quantity\n",
    "        dec1 = t_index+1.0\n",
    "        value = self.evaluate(t_max, t0, t_ref, dec1) - self.evaluate(t_min, t0, t_ref, dec1)\n",
    "        return ( (t0/dec1) * value / self.time_sum(t_min, t_max) ).value"
   ]
  },
  {
   "cell_type": "markdown",
   "metadata": {},
   "source": [
    "## GRB190114C\n",
    "\n",
    "From paper of MAGIC collaboration (Nature, 575, 455, 2019)\n",
    "\n",
    "Redshift: z=0.4245\n",
    "\n",
    "Power law spectrum, with Gamma=5.4, F0=4.1e-10 ph/Tev/cm2/s at E0=0.475 TeV in the 0.3-1 TeV band. \n",
    "\n",
    "Power law light curve, with delta=-1.6\n",
    "\n",
    "T0=14 January 2019, 20:57:03 UTC\n",
    "\n",
    "MAGIC observations started T+57s and lasted T0+15912 s\n",
    "\n",
    "\n",
    "## Simulating a light curve\n",
    "\n",
    "We will simulate 6 datasets using an `PowerLawSpectralModel` and the `PowerlawDecayTemporalModel` we have implemented for this study. "
   ]
  },
  {
   "cell_type": "code",
   "execution_count": 5,
   "metadata": {},
   "outputs": [],
   "source": [
    "# Loading IRFs\n",
    "irfs = load_cta_irfs(\n",
    "    \"/Users/giovanni/Works/CTA/gammapy_trans/data/cta/prod2/bcf/South_50h/irf_file.fits.gz\"\n",
    ")"
   ]
  },
  {
   "cell_type": "code",
   "execution_count": 6,
   "metadata": {},
   "outputs": [],
   "source": [
    "# Reconstructed and true energy axis\n",
    "center = SkyCoord(0.0, 0.0, unit=\"deg\", frame=\"galactic\")\n",
    "\n",
    "# [Generate an axis object from a sequence of bin edges: \n",
    "# This method should be used to construct an axis where the bin edges \n",
    "# should lie at specific values (e.g. a histogram). \n",
    "# The number of bins will be one less than the number of edges.\n",
    "# 0.32-10.0 TeV (true: 0.05-10 TeV)]\n",
    "energy_axis = MapAxis.from_edges(\n",
    "    np.logspace(-0.5, 1.0, 10), unit=\"TeV\", name=\"energy\", interp=\"log\"\n",
    ")\n",
    "energy_axis_true = MapAxis.from_edges(\n",
    "    np.logspace(-1.2, 2.0, 31), unit=\"TeV\", name=\"energy_true\", interp=\"log\"\n",
    ")\n",
    "\n",
    "on_region_radius = Angle(\"0.11 deg\")\n",
    "on_region = CircleSkyRegion(center=center, radius=on_region_radius)"
   ]
  },
  {
   "cell_type": "code",
   "execution_count": 7,
   "metadata": {},
   "outputs": [],
   "source": [
    "# Pointing position\n",
    "pointing = SkyCoord(0.5, 0.5, unit=\"deg\", frame=\"galactic\")"
   ]
  },
  {
   "cell_type": "code",
   "execution_count": 8,
   "metadata": {},
   "outputs": [],
   "source": [
    "# Define the source model: A combination of spectral and temporal model\n",
    "\n",
    "# [Start time]\n",
    "gti_t0 = Time(\"2019-01-14 20:57:03\")\n",
    "\n",
    "# [F(E)=F0(E/E0)^Gamma where index= photon index, amplitude = F(E0), reference=E0]\n",
    "spectral_model = PowerLawSpectralModel(\n",
    "#    index=2.2, amplitude=\"1e-11 cm-2 s-1 TeV-1\", reference=\"1 TeV\"\n",
    "    #index=3, amplitude=\"1e-11 cm-2 s-1 TeV-1\", reference=\"1 TeV\"\n",
    "    index=5.4, amplitude=\"4.1e-10 cm-2 s-1 TeV-1\", reference=\"0.475 TeV\"\n",
    ")\n",
    "\n",
    "# Temporal model\n",
    "# test  (it works)\n",
    "#temporal_model = MyTemporalModel(t0=\"6 h\", t_ref=gti_t0.mjd * u.d)\n",
    "# power law temporal model\n",
    "temporal_model = PowerlawDecayTemporalModel(t0=1 * u.s, t_ref=gti_t0.mjd * u.d, t_index=-1.6)\n",
    "\n",
    "# [F(t,E)=F(E)*exp((t-t_ref)/t0)]\n",
    "model_simu = SkyModel(\n",
    "    spectral_model=spectral_model,\n",
    "    temporal_model=temporal_model,\n",
    "    name=\"model-simu\",\n",
    ")\n"
   ]
  },
  {
   "cell_type": "code",
   "execution_count": 9,
   "metadata": {},
   "outputs": [
    {
     "data": {
      "text/html": [
       "<i>Table length=6</i>\n",
       "<table id=\"table140591036992984\" class=\"table-striped table-bordered table-condensed\">\n",
       "<thead><tr><th>name</th><th>value</th><th>unit</th><th>min</th><th>max</th><th>frozen</th><th>error</th></tr></thead>\n",
       "<thead><tr><th>str9</th><th>float64</th><th>str14</th><th>float64</th><th>float64</th><th>bool</th><th>int64</th></tr></thead>\n",
       "<tr><td>index</td><td>5.400e+00</td><td></td><td>nan</td><td>nan</td><td>False</td><td>0.000e+00</td></tr>\n",
       "<tr><td>amplitude</td><td>4.100e-10</td><td>cm-2 s-1 TeV-1</td><td>nan</td><td>nan</td><td>False</td><td>0.000e+00</td></tr>\n",
       "<tr><td>reference</td><td>4.750e-01</td><td>TeV</td><td>nan</td><td>nan</td><td>True</td><td>0.000e+00</td></tr>\n",
       "<tr><td>t0</td><td>1.000e+00</td><td>s</td><td>nan</td><td>nan</td><td>True</td><td>0.000e+00</td></tr>\n",
       "<tr><td>t_ref</td><td>5.054e+09</td><td>s</td><td>nan</td><td>nan</td><td>True</td><td>0.000e+00</td></tr>\n",
       "<tr><td>t_index</td><td>-1.600e+00</td><td></td><td>nan</td><td>nan</td><td>False</td><td>0.000e+00</td></tr>\n",
       "</table>"
      ],
      "text/plain": [
       "<Table length=6>\n",
       "   name     value         unit        min     max   frozen   error  \n",
       "   str9    float64       str14      float64 float64  bool    int64  \n",
       "--------- ---------- -------------- ------- ------- ------ ---------\n",
       "    index  5.400e+00                    nan     nan  False 0.000e+00\n",
       "amplitude  4.100e-10 cm-2 s-1 TeV-1     nan     nan  False 0.000e+00\n",
       "reference  4.750e-01            TeV     nan     nan   True 0.000e+00\n",
       "       t0  1.000e+00              s     nan     nan   True 0.000e+00\n",
       "    t_ref  5.054e+09              s     nan     nan   True 0.000e+00\n",
       "  t_index -1.600e+00                    nan     nan  False 0.000e+00"
      ]
     },
     "execution_count": 9,
     "metadata": {},
     "output_type": "execute_result"
    }
   ],
   "source": [
    "# Look at the model\n",
    "model_simu.parameters.to_table()"
   ]
  },
  {
   "cell_type": "markdown",
   "metadata": {},
   "source": [
    "Now, define the start and observation livetime wrt to the reference time, `gti_t0`"
   ]
  },
  {
   "cell_type": "code",
   "execution_count": 10,
   "metadata": {},
   "outputs": [],
   "source": [
    "#n_obs = 10\n",
    "#tstart = [1, 2, 3, 5, 8, 9, 22, 24, 25, 26] * u.h\n",
    "#lvtm = [55, 25, 26, 40, 40, 50, 40, 52, 43, 47] * u.min\n",
    "\n",
    "# From tab.1 of paper\n",
    "n_obs = 6\n",
    "tstart = [62, 100, 140, 210, 361.5, 800] * u.s\n",
    "lvtm = [38, 40, 70, 151.5, 438.5, 1654] * u.s"
   ]
  },
  {
   "cell_type": "markdown",
   "metadata": {},
   "source": [
    "Now perform the simulations"
   ]
  },
  {
   "cell_type": "code",
   "execution_count": 11,
   "metadata": {},
   "outputs": [],
   "source": [
    "datasets = Datasets()\n",
    "\n",
    "empty = SpectrumDataset.create(\n",
    "    e_reco=energy_axis.edges,\n",
    "    e_true=energy_axis_true.edges,\n",
    "    region=on_region,\n",
    "    name=\"empty\",\n",
    ")\n",
    "\n",
    "for i in range(n_obs):\n",
    "    obs = Observation.create(\n",
    "        pointing=pointing,\n",
    "        livetime=lvtm[i],\n",
    "        tstart=tstart[i],\n",
    "        irfs=irfs,\n",
    "        reference_time=gti_t0,\n",
    "    )\n",
    "    empty_i = empty.copy(name=f\"dataset_{i}\")\n",
    "    maker = SpectrumDatasetMaker(selection=[\"aeff\", \"background\", \"edisp\"])\n",
    "    dataset = maker.run(empty_i, obs)\n",
    "    dataset.models = model_simu\n",
    "    dataset.fake()\n",
    "    datasets.append(dataset)"
   ]
  },
  {
   "cell_type": "markdown",
   "metadata": {},
   "source": [
    "The reduced datasets have been successfully simulated. Let's take a quick look into our datasets."
   ]
  },
  {
   "cell_type": "code",
   "execution_count": 12,
   "metadata": {},
   "outputs": [
    {
     "data": {
      "text/html": [
       "<i>Table length=6</i>\n",
       "<table id=\"table140591036243752\" class=\"table-striped table-bordered table-condensed\">\n",
       "<thead><tr><th>name</th><th>livetime</th><th>n_on</th><th>background</th><th>excess</th><th>significance</th><th>background_rate</th><th>gamma_rate</th></tr></thead>\n",
       "<thead><tr><th></th><th>s</th><th></th><th></th><th></th><th></th><th>1 / s</th><th>1 / s</th></tr></thead>\n",
       "<thead><tr><th>str9</th><th>float64</th><th>int64</th><th>float64</th><th>float64</th><th>float64</th><th>float64</th><th>float64</th></tr></thead>\n",
       "<tr><td>stacked</td><td>38.0</td><td>1006120</td><td>0.1469753014257728</td><td>1006119.8530246986</td><td>5445.972105277226</td><td>0.003867771090151916</td><td>26476.838237492066</td></tr>\n",
       "<tr><td>dataset_1</td><td>40.0</td><td>730787</td><td>0.15471084360607665</td><td>730786.8452891564</td><td>4582.576217083327</td><td>0.003867771090151916</td><td>18269.671132228912</td></tr>\n",
       "<tr><td>dataset_2</td><td>70.0</td><td>854649</td><td>0.27074397631063407</td><td>854648.7292560237</td><td>4885.733782531977</td><td>0.0038677710901519153</td><td>12209.267560800337</td></tr>\n",
       "<tr><td>dataset_3</td><td>151.5</td><td>1034692</td><td>0.5859673201580153</td><td>1034691.41403268</td><td>5262.780176371868</td><td>0.0038677710901519166</td><td>6829.646297245413</td></tr>\n",
       "<tr><td>dataset_4</td><td>438.5</td><td>1195694</td><td>1.6960176230316153</td><td>1195692.3039823768</td><td>5459.939299289774</td><td>0.003867771090151916</td><td>2726.7783443155686</td></tr>\n",
       "<tr><td>dataset_5</td><td>1654.0</td><td>1080952</td><td>6.39729338311127</td><td>1080945.602706617</td><td>4884.872565864146</td><td>0.0038677710901519166</td><td>653.5342217089583</td></tr>\n",
       "</table>"
      ],
      "text/plain": [
       "<Table length=6>\n",
       "   name   livetime   n_on  ...    background_rate        gamma_rate    \n",
       "             s             ...         1 / s               1 / s       \n",
       "   str9   float64   int64  ...        float64             float64      \n",
       "--------- -------- ------- ... --------------------- ------------------\n",
       "  stacked     38.0 1006120 ...  0.003867771090151916 26476.838237492066\n",
       "dataset_1     40.0  730787 ...  0.003867771090151916 18269.671132228912\n",
       "dataset_2     70.0  854649 ... 0.0038677710901519153 12209.267560800337\n",
       "dataset_3    151.5 1034692 ... 0.0038677710901519166  6829.646297245413\n",
       "dataset_4    438.5 1195694 ...  0.003867771090151916 2726.7783443155686\n",
       "dataset_5   1654.0 1080952 ... 0.0038677710901519166  653.5342217089583"
      ]
     },
     "execution_count": 12,
     "metadata": {},
     "output_type": "execute_result"
    }
   ],
   "source": [
    "datasets.info_table()"
   ]
  },
  {
   "cell_type": "markdown",
   "metadata": {},
   "source": [
    "## 1. Extract the lightcurve\n",
    "\n",
    "- Using LightCurveEstimator\n",
    "- Temporal model not accounted"
   ]
  },
  {
   "cell_type": "code",
   "execution_count": 13,
   "metadata": {},
   "outputs": [],
   "source": [
    "# Define the model:\n",
    "spectral_model = PowerLawSpectralModel(\n",
    "    index=5.4, amplitude=\"4.1e-10 cm-2 s-1 TeV-1\", reference=\"0.475 TeV\"\n",
    ")\n",
    "model_fit = SkyModel(spectral_model=spectral_model, name=\"model-fit\")"
   ]
  },
  {
   "cell_type": "code",
   "execution_count": 14,
   "metadata": {},
   "outputs": [],
   "source": [
    "# Attach model to each dataset\n",
    "for dataset in datasets:\n",
    "    dataset.models = model_fit"
   ]
  },
  {
   "cell_type": "code",
   "execution_count": 15,
   "metadata": {},
   "outputs": [
    {
     "name": "stdout",
     "output_type": "stream",
     "text": [
      "CPU times: user 657 ms, sys: 5.84 ms, total: 663 ms\n",
      "Wall time: 666 ms\n"
     ]
    }
   ],
   "source": [
    "%%time\n",
    "lc_maker_1d = LightCurveEstimator(\n",
    "    energy_range=[energy_axis.edges[0], energy_axis.edges[-1]],\n",
    "    source=\"model-fit\",\n",
    "    reoptimize=False,\n",
    ")\n",
    "lc_1d = lc_maker_1d.run(datasets)"
   ]
  },
  {
   "cell_type": "code",
   "execution_count": 16,
   "metadata": {},
   "outputs": [
    {
     "data": {
      "image/png": "[encoded data removed]",
      "text/plain": [
       "<Figure size 432x288 with 1 Axes>"
      ]
     },
     "metadata": {
      "needs_background": "light"
     },
     "output_type": "display_data"
    }
   ],
   "source": [
    "ax = lc_1d.plot(marker=\"o\")\n",
    "ax.set_yscale('log')"
   ]
  },
  {
   "cell_type": "code",
   "execution_count": 17,
   "metadata": {},
   "outputs": [
    {
     "data": {
      "text/html": [
       "<i>Table length=6</i>\n",
       "<table id=\"table140591039580984\" class=\"table-striped table-bordered table-condensed\">\n",
       "<thead><tr><th>time_min</th><th>time_max</th><th>e_ref</th><th>e_min</th><th>e_max</th><th>ref_dnde</th><th>ref_flux</th><th>ref_eflux</th><th>ref_e2dnde</th><th>norm</th><th>stat</th><th>norm_err</th><th>norm_errp</th><th>norm_errn</th><th>norm_ul</th><th>sqrt_ts</th><th>ts</th><th>null_value</th><th>norm_scan [11]</th><th>stat_scan [11]</th><th>counts</th><th>flux</th><th>flux_ul</th><th>flux_err</th><th>flux_errp</th><th>flux_errn</th></tr></thead>\n",
       "<thead><tr><th></th><th></th><th>TeV</th><th>TeV</th><th>TeV</th><th>1 / (cm2 s TeV)</th><th>1 / (cm2 s)</th><th>TeV / (cm2 s)</th><th>TeV / (cm2 s)</th><th></th><th></th><th></th><th></th><th></th><th></th><th></th><th></th><th></th><th></th><th></th><th></th><th>1 / (cm2 s)</th><th>1 / (cm2 s)</th><th>1 / (cm2 s)</th><th>1 / (cm2 s)</th><th>1 / (cm2 s)</th></tr></thead>\n",
       "<thead><tr><th>float64</th><th>float64</th><th>float64</th><th>float64</th><th>float64</th><th>float64</th><th>float64</th><th>float64</th><th>float64</th><th>float64</th><th>float64</th><th>float64</th><th>float64</th><th>float64</th><th>float64</th><th>float64</th><th>float64</th><th>int64</th><th>float64</th><th>float64</th><th>int64</th><th>float64</th><th>float64</th><th>float64</th><th>float64</th><th>float64</th></tr></thead>\n",
       "<tr><td>58497.87446972222</td><td>58497.87490953704</td><td>1.7782794100389232</td><td>0.316227766016838</td><td>10.000000000000002</td><td>3.287981374321955e-13</td><td>2.651408004814533e-10</td><td>1.0850430809486839e-10</td><td>1.0397510047068048e-12</td><td>26338.00982373452</td><td>-24227218.595833905</td><td>26.257945601159644</td><td>26.313609057816837</td><td>26.20275795542878</td><td>26390.634917263153</td><td>5484.250092245253</td><td>30076999.074292064</td><td>0</td><td>0.20000000000000004 .. 5.000000000000001</td><td>-2556468.5663509704 .. -8997068.412951428</td><td>1006120</td><td>6.983281007753352e-06</td><td>6.997234067176945e-06</td><td>6.962052715689924e-09</td><td>6.976811369145576e-09</td><td>6.947420219124155e-09</td></tr>\n",
       "<tr><td>58497.87490953704</td><td>58497.8753725</td><td>1.7782794100389232</td><td>0.316227766016838</td><td>10.000000000000002</td><td>3.287981374321955e-13</td><td>2.651408004814533e-10</td><td>1.0850430809486839e-10</td><td>1.0397510047068048e-12</td><td>18173.83283473464</td><td>-17131753.764040355</td><td>21.25945146317172</td><td>21.343736959703566</td><td>21.176777751725883</td><td>18216.49673899125</td><td>4615.721694928015</td><td>21304886.765029147</td><td>0</td><td>0.20000000000000004 .. 5.000000000000001</td><td>-1933619.032059952 .. -6611617.477681279</td><td>730787</td><td>4.818624585617662e-06</td><td>4.8299365273439235e-06</td><td>5.636747978741954e-09</td><td>5.659095502761384e-09</td><td>5.614827804710432e-09</td></tr>\n",
       "<tr><td>58497.8753725</td><td>58497.876182685184</td><td>1.7782794100389232</td><td>0.316227766016838</td><td>10.000000000000002</td><td>3.287981374321955e-13</td><td>2.651408004814533e-10</td><td>1.0850430809486839e-10</td><td>1.0397510047068048e-12</td><td>12145.159627569235</td><td>-20300871.942535076</td><td>13.137351931522572</td><td>13.25393478278723</td><td>13.021526988418149</td><td>12171.565257073122</td><td>4921.968970515399</td><td>24225778.546716414</td><td>0</td><td>0.20000000000000004 .. 5.000000000000001</td><td>-3215732.613530196 .. -8686358.56710874</td><td>854649</td><td>3.2201773456287364e-06</td><td>3.2271785553726136e-06</td><td>3.4832480073304615e-09</td><td>3.514158877837183e-09</td><td>3.452538089200036e-09</td></tr>\n",
       "<tr><td>58497.876182685184</td><td>58497.877936157405</td><td>1.7782794100389232</td><td>0.316227766016838</td><td>10.000000000000002</td><td>3.287981374321955e-13</td><td>2.651408004814533e-10</td><td>1.0850430809486839e-10</td><td>1.0397510047068048e-12</td><td>6793.851463513545</td><td>-24971819.451056864</td><td>6.679016388102875</td><td>6.677448520488685</td><td>6.680633420765056</td><td>6807.216879401935</td><td>5303.431230123682</td><td>28126382.8126512</td><td>0</td><td>0.20000000000000004 .. 5.000000000000001</td><td>-5489698.037465005 .. -12112042.152129829</td><td>1034692</td><td>1.8013272153880745e-06</td><td>1.8048709324554897e-06</td><td>1.7708797515703413e-09</td><td>1.770464045896066e-09</td><td>1.7713084929047966e-09</td></tr>\n",
       "<tr><td>58497.877936157405</td><td>58497.88301138889</td><td>1.7782794100389232</td><td>0.316227766016838</td><td>10.000000000000002</td><td>3.287981374321955e-13</td><td>2.651408004814533e-10</td><td>1.0850430809486839e-10</td><td>1.0397510047068048e-12</td><td>2712.48984990739</td><td>-29205122.69160379</td><td>2.480622504287147</td><td>2.477077855976492</td><td>2.484080222318157</td><td>2717.4517155813764</td><td>5505.296567191197</td><td>30308290.292727176</td><td>0</td><td>0.20000000000000004 .. 5.000000000000001</td><td>-8886978.924507909 .. -16537316.677093806</td><td>1195694</td><td>7.191917301022626e-07</td><td>7.205073231389448e-07</td><td>6.577142364790016e-10</td><td>6.567744055884891e-10</td><td>6.586310186055826e-10</td></tr>\n",
       "<tr><td>58497.88301138889</td><td>58497.9021549074</td><td>1.7782794100389232</td><td>0.316227766016838</td><td>10.000000000000002</td><td>3.287981374321955e-13</td><td>2.651408004814533e-10</td><td>1.0850430809486839e-10</td><td>1.0397510047068048e-12</td><td>650.1089200003307</td><td>-26179790.11542967</td><td>0.6252979951372597</td><td>0.6251805586169162</td><td>0.6254124561877916</td><td>651.3602578216442</td><td>4930.419507174316</td><td>24309036.516725022</td><td>0</td><td>0.20000000000000004 .. 5.000000000000001</td><td>-10899223.509610135 .. -17803202.532165013</td><td>1080952</td><td>1.723703994490208e-07</td><td>1.7270218016063654e-07</td><td>1.6579201097014093e-10</td><td>1.6576087375713132e-10</td><td>1.6582235926470291e-10</td></tr>\n",
       "</table>"
      ],
      "text/plain": [
       "<Table length=6>\n",
       "     time_min           time_max      ...       flux_errn       \n",
       "                                      ...      1 / (cm2 s)      \n",
       "     float64            float64       ...        float64        \n",
       "------------------ ------------------ ... ----------------------\n",
       " 58497.87446972222  58497.87490953704 ...  6.947420219124155e-09\n",
       " 58497.87490953704      58497.8753725 ...  5.614827804710432e-09\n",
       "     58497.8753725 58497.876182685184 ...  3.452538089200036e-09\n",
       "58497.876182685184 58497.877936157405 ... 1.7713084929047966e-09\n",
       "58497.877936157405  58497.88301138889 ...  6.586310186055826e-10\n",
       " 58497.88301138889   58497.9021549074 ... 1.6582235926470291e-10"
      ]
     },
     "execution_count": 17,
     "metadata": {},
     "output_type": "execute_result"
    }
   ],
   "source": [
    "lc_1d.table"
   ]
  },
  {
   "cell_type": "markdown",
   "metadata": {},
   "source": [
    "## 2. Joint fitting\n",
    "- Directly accounting for a temporal model"
   ]
  },
  {
   "cell_type": "code",
   "execution_count": 18,
   "metadata": {},
   "outputs": [],
   "source": [
    "# Define the model:\n",
    "\n",
    "spectral_model1 = PowerLawSpectralModel(index=5.4, amplitude=\"4.1e-10 cm-2 s-1 TeV-1\", \n",
    "                                       reference=\"0.475 TeV\")\n",
    "temporal_model1 = PowerlawDecayTemporalModel(t0=1 * u.s, t_ref=gti_t0.mjd * u.d, t_index=-1.2)\n",
    "model = SkyModel(\n",
    "    spectral_model=spectral_model1,\n",
    "    temporal_model=temporal_model1,\n",
    "    name=\"model-test\",\n",
    ")"
   ]
  },
  {
   "cell_type": "code",
   "execution_count": 19,
   "metadata": {},
   "outputs": [
    {
     "data": {
      "text/html": [
       "<i>Table length=6</i>\n",
       "<table id=\"table140591025244592\" class=\"table-striped table-bordered table-condensed\">\n",
       "<thead><tr><th>name</th><th>value</th><th>unit</th><th>min</th><th>max</th><th>frozen</th><th>error</th></tr></thead>\n",
       "<thead><tr><th>str9</th><th>float64</th><th>str14</th><th>float64</th><th>float64</th><th>bool</th><th>int64</th></tr></thead>\n",
       "<tr><td>index</td><td>5.400e+00</td><td></td><td>nan</td><td>nan</td><td>False</td><td>0.000e+00</td></tr>\n",
       "<tr><td>amplitude</td><td>4.100e-10</td><td>cm-2 s-1 TeV-1</td><td>nan</td><td>nan</td><td>False</td><td>0.000e+00</td></tr>\n",
       "<tr><td>reference</td><td>4.750e-01</td><td>TeV</td><td>nan</td><td>nan</td><td>True</td><td>0.000e+00</td></tr>\n",
       "<tr><td>t0</td><td>1.000e+00</td><td>s</td><td>nan</td><td>nan</td><td>True</td><td>0.000e+00</td></tr>\n",
       "<tr><td>t_ref</td><td>5.054e+09</td><td>s</td><td>nan</td><td>nan</td><td>True</td><td>0.000e+00</td></tr>\n",
       "<tr><td>t_index</td><td>-1.200e+00</td><td></td><td>nan</td><td>nan</td><td>False</td><td>0.000e+00</td></tr>\n",
       "</table>"
      ],
      "text/plain": [
       "<Table length=6>\n",
       "   name     value         unit        min     max   frozen   error  \n",
       "   str9    float64       str14      float64 float64  bool    int64  \n",
       "--------- ---------- -------------- ------- ------- ------ ---------\n",
       "    index  5.400e+00                    nan     nan  False 0.000e+00\n",
       "amplitude  4.100e-10 cm-2 s-1 TeV-1     nan     nan  False 0.000e+00\n",
       "reference  4.750e-01            TeV     nan     nan   True 0.000e+00\n",
       "       t0  1.000e+00              s     nan     nan   True 0.000e+00\n",
       "    t_ref  5.054e+09              s     nan     nan   True 0.000e+00\n",
       "  t_index -1.200e+00                    nan     nan  False 0.000e+00"
      ]
     },
     "execution_count": 19,
     "metadata": {},
     "output_type": "execute_result"
    }
   ],
   "source": [
    "model.parameters.to_table()"
   ]
  },
  {
   "cell_type": "code",
   "execution_count": 20,
   "metadata": {},
   "outputs": [],
   "source": [
    "model_pars = model.parameters.values"
   ]
  },
  {
   "cell_type": "code",
   "execution_count": 21,
   "metadata": {},
   "outputs": [],
   "source": [
    "for dataset in datasets:\n",
    "    dataset.models = model"
   ]
  },
  {
   "cell_type": "code",
   "execution_count": 22,
   "metadata": {},
   "outputs": [
    {
     "name": "stdout",
     "output_type": "stream",
     "text": [
      "CPU times: user 3.41 s, sys: 6.52 ms, total: 3.42 s\n",
      "Wall time: 3.42 s\n"
     ]
    }
   ],
   "source": [
    "%%time\n",
    "# Do a joint fit\n",
    "fit = Fit(datasets)\n",
    "result = fit.run()"
   ]
  },
  {
   "cell_type": "code",
   "execution_count": 23,
   "metadata": {},
   "outputs": [
    {
     "data": {
      "text/html": [
       "<i>Table length=6</i>\n",
       "<table id=\"table140591037429408\" class=\"table-striped table-bordered table-condensed\">\n",
       "<thead><tr><th>name</th><th>value</th><th>unit</th><th>min</th><th>max</th><th>frozen</th><th>error</th></tr></thead>\n",
       "<thead><tr><th>str9</th><th>float64</th><th>str14</th><th>float64</th><th>float64</th><th>bool</th><th>float64</th></tr></thead>\n",
       "<tr><td>index</td><td>5.400e+00</td><td></td><td>nan</td><td>nan</td><td>False</td><td>1.531e-03</td></tr>\n",
       "<tr><td>amplitude</td><td>4.098e-10</td><td>cm-2 s-1 TeV-1</td><td>nan</td><td>nan</td><td>False</td><td>1.137e-12</td></tr>\n",
       "<tr><td>reference</td><td>4.750e-01</td><td>TeV</td><td>nan</td><td>nan</td><td>True</td><td>0.000e+00</td></tr>\n",
       "<tr><td>t0</td><td>1.000e+00</td><td>s</td><td>nan</td><td>nan</td><td>True</td><td>0.000e+00</td></tr>\n",
       "<tr><td>t_ref</td><td>5.054e+09</td><td>s</td><td>nan</td><td>nan</td><td>True</td><td>0.000e+00</td></tr>\n",
       "<tr><td>t_index</td><td>-1.600e+00</td><td></td><td>nan</td><td>nan</td><td>False</td><td>5.038e-04</td></tr>\n",
       "</table>"
      ],
      "text/plain": [
       "<Table length=6>\n",
       "   name     value         unit        min     max   frozen   error  \n",
       "   str9    float64       str14      float64 float64  bool   float64 \n",
       "--------- ---------- -------------- ------- ------- ------ ---------\n",
       "    index  5.400e+00                    nan     nan  False 1.531e-03\n",
       "amplitude  4.098e-10 cm-2 s-1 TeV-1     nan     nan  False 1.137e-12\n",
       "reference  4.750e-01            TeV     nan     nan   True 0.000e+00\n",
       "       t0  1.000e+00              s     nan     nan   True 0.000e+00\n",
       "    t_ref  5.054e+09              s     nan     nan   True 0.000e+00\n",
       "  t_index -1.600e+00                    nan     nan  False 5.038e-04"
      ]
     },
     "execution_count": 23,
     "metadata": {},
     "output_type": "execute_result"
    }
   ],
   "source": [
    "result.parameters.to_table()"
   ]
  },
  {
   "cell_type": "code",
   "execution_count": 24,
   "metadata": {},
   "outputs": [
    {
     "data": {
      "text/plain": [
       "array([ 5.40011641e+00,  4.09834288e-10,  4.75000000e-01,  1.00000000e+00,\n",
       "        5.05421622e+09, -1.60006342e+00])"
      ]
     },
     "execution_count": 24,
     "metadata": {},
     "output_type": "execute_result"
    }
   ],
   "source": [
    "result.parameters.values"
   ]
  },
  {
   "cell_type": "markdown",
   "metadata": {},
   "source": [
    "We see that the fitted parameters match well with the simulated ones:"
   ]
  },
  {
   "cell_type": "code",
   "execution_count": 25,
   "metadata": {},
   "outputs": [
    {
     "data": {
      "text/plain": [
       "array([ 5.40000000e+00,  4.10000000e-10,  4.75000000e-01,  1.00000000e+00,\n",
       "        5.05421622e+09, -1.20000000e+00])"
      ]
     },
     "execution_count": 25,
     "metadata": {},
     "output_type": "execute_result"
    }
   ],
   "source": [
    "model_pars"
   ]
  }
 ],
 "metadata": {
  "kernelspec": {
   "display_name": "Python 3",
   "language": "python",
   "name": "python3"
  },
  "language_info": {
   "codemirror_mode": {
    "name": "ipython",
    "version": 3
   },
   "file_extension": ".py",
   "mimetype": "text/x-python",
   "name": "python",
   "nbconvert_exporter": "python",
   "pygments_lexer": "ipython3",
   "version": "3.7.0"
  }
 },
 "nbformat": 4,
 "nbformat_minor": 4
}
