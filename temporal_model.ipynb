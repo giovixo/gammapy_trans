{
 "cells": [
  {
   "cell_type": "code",
   "execution_count": 1,
   "metadata": {},
   "outputs": [],
   "source": [
    "%matplotlib inline\n",
    "import matplotlib.pyplot as plt\n",
    "import numpy as np\n",
    "import astropy.units as u\n",
    "from astropy.coordinates import SkyCoord, Angle\n",
    "from astropy.time import Time\n",
    "from regions import CircleSkyRegion\n",
    "\n",
    "import logging\n",
    "\n",
    "log = logging.getLogger(__name__)"
   ]
  },
  {
   "cell_type": "markdown",
   "metadata": {},
   "source": [
    "## GRB190114C\n",
    "\n",
    "From paper of MAGIC collaboration (Nature, 575, 455, 2019)\n",
    "\n",
    "Redshift: z=0.4245\n",
    "\n",
    "Power law spectrum, with Gamma=5.4, F0=4.1e-10 ph/Tev/cm2/s at E0=0.475 TeV in the 0.3-1 TeV band.\n",
    "\n",
    "Power law light curve, with delta=-1.6 \n",
    "\n",
    "T0=14 January 2019, 20:57:03 UTC (t_ref in this notebook)\n",
    "\n",
    "MAGIC observations started T+57s and lasted T0+15912 s\n"
   ]
  },
  {
   "cell_type": "code",
   "execution_count": 54,
   "metadata": {},
   "outputs": [],
   "source": [
    "# Define the model\n",
    "\n",
    "from gammapy.modeling.models import TemporalModel\n",
    "from gammapy.modeling import Parameter\n",
    "class PowerlawDecayTemporalModel(TemporalModel):\n",
    "    \"\"\"Temporal model with a power law decay.\n",
    "        ..math::\n",
    "                np.power(( (time - t_ref) / t0 ), index)\n",
    "    Parameters\n",
    "    ----------\n",
    "    t0 : `~astropy.units.Quantity`\n",
    "        Decay time scale\n",
    "    t_ref: `~astropy.units.Quantity`\n",
    "        The reference time \n",
    "    index: `~astropy.units.Quantity`\n",
    "        Power index \n",
    "    \"\"\"\n",
    "\n",
    "    tag = \"PowerlawDecayTemporalModel\"\n",
    "\n",
    "    t0 = Parameter(\"t0\", 1.*u.s, frozen=True)\n",
    "\n",
    "    _t_ref_default = Time(\"2000-01-01\")\n",
    "    t_ref = Parameter(\"t_ref\", (_t_ref_default.mjd*u.d).to(u.s), frozen=True)\n",
    "    \n",
    "    t_index = Parameter(\"t_index\", -2.0)\n",
    "\n",
    "    @staticmethod\n",
    "    def evaluate(time, t0, t_ref, t_index):\n",
    "        \"\"\"Evaluate at given times\"\"\"\n",
    "        return np.power(( (time - t_ref) / t0 ), t_index)\n",
    "\n",
    "    def integral(self, t_min, t_max):\n",
    "        \"\"\"Evaluate the integrated flux within the given time intervals\n",
    "        Parameters\n",
    "        ----------\n",
    "        t_min: `~astropy.time.Time`\n",
    "            Start times of observation\n",
    "        t_max: `~astropy.time.Time`\n",
    "            Stop times of observation\n",
    "        Returns\n",
    "        -------\n",
    "        norm : float\n",
    "            Integrated flux norm on the given time intervals\n",
    "        \"\"\"\n",
    "        pars = self.parameters\n",
    "        t0 = pars[\"t0\"].quantity\n",
    "        t_index = pars[\"t_index\"].quantity\n",
    "        #t_ref = Time(pars[\"t_ref\"].quantity, format=\"mjd\")\n",
    "        t_ref = pars[\"t_ref\"].quantity\n",
    "        dec1 = t_index+1.0\n",
    "        value = self.evaluate(t_max, t0, t_ref, dec1) - self.evaluate(t_min, t0, t_ref, dec1)\n",
    "        return (t0/dec1) * value / self.time_sum(t_min, t_max)"
   ]
  },
  {
   "cell_type": "code",
   "execution_count": 55,
   "metadata": {},
   "outputs": [
    {
     "name": "stdout",
     "output_type": "stream",
     "text": [
      "Temporal model at t = T0 + 80 s: 0.0009016874411920081\n",
      "Temporal model at t = T0' + 10^3 s: 1.5848931924611124e-05\n"
     ]
    },
    {
     "data": {
      "image/png": "[encoded data removed]",
      "text/plain": [
       "<Figure size 432x288 with 1 Axes>"
      ]
     },
     "metadata": {},
     "output_type": "display_data"
    }
   ],
   "source": [
    "# Plot the model\n",
    "plt.style.use('seaborn-whitegrid')\n",
    "\n",
    "gti_t0 = Time(\"2019-01-14 20:57:03\")\n",
    "temporal_model = PowerlawDecayTemporalModel(t0=1 * u.s, t_ref=(gti_t0.mjd*u.d).to(u.s), t_index=-1.6)\n",
    "\n",
    "pars = temporal_model.parameters\n",
    "\n",
    "t0 = pars['t0'].quantity\n",
    "t_ref = pars['t_ref'].quantity\n",
    "t_index= pars['t_index'].quantity\n",
    "\n",
    "time = []\n",
    "values = []\n",
    "\n",
    "for i in range(80, 1000):\n",
    "    t = t_ref + i * u.s\n",
    "    time.append(t)\n",
    "    v = temporal_model.evaluate(t, t0, t_ref, t_index)\n",
    "    values.append(v)\n",
    "    \n",
    "x = [(t-t_ref).value for t in time]\n",
    "y = [v.value for v in values]\n",
    "\n",
    "plt.loglog(x, y)\n",
    "plt.xlabel('t - T0 (s)')\n",
    "\n",
    "t_min = t_ref + 80 * u.s\n",
    "value1 = temporal_model.evaluate(t_min, t0, t_ref, t_index)\n",
    "print(\"Temporal model at t = T0 + 80 s: {}\".format(value1))\n",
    "t_max = t_ref + 1000 * u.s\n",
    "value2 = temporal_model.evaluate(t_max, t0, t_ref, t_index)\n",
    "print(\"Temporal model at t = T0' + 10^3 s: {}\".format(value2))"
   ]
  },
  {
   "cell_type": "code",
   "execution_count": 58,
   "metadata": {},
   "outputs": [
    {
     "data": {
      "text/latex": [
       "$0.00010196751 \\; \\mathrm{}$"
      ],
      "text/plain": [
       "<Quantity 0.00010197>"
      ]
     },
     "execution_count": 58,
     "metadata": {},
     "output_type": "execute_result"
    }
   ],
   "source": [
    "temporal_model.integral(t_min, t_max)"
   ]
  },
  {
   "cell_type": "code",
   "execution_count": null,
   "metadata": {},
   "outputs": [],
   "source": []
  }
 ],
 "metadata": {
  "kernelspec": {
   "display_name": "Python 3",
   "language": "python",
   "name": "python3"
  },
  "language_info": {
   "codemirror_mode": {
    "name": "ipython",
    "version": 3
   },
   "file_extension": ".py",
   "mimetype": "text/x-python",
   "name": "python",
   "nbconvert_exporter": "python",
   "pygments_lexer": "ipython3",
   "version": "3.7.0"
  }
 },
 "nbformat": 4,
 "nbformat_minor": 4
}
