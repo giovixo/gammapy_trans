{
 "cells": [
  {
   "cell_type": "markdown",
   "metadata": {},
   "source": [
    "# Play with light curve model in gammapy"
   ]
  },
  {
   "cell_type": "markdown",
   "metadata": {},
   "source": [
    "Setup"
   ]
  },
  {
   "cell_type": "code",
   "execution_count": 1,
   "metadata": {},
   "outputs": [],
   "source": [
    "%matplotlib inline\n",
    "import matplotlib.pyplot as plt\n",
    "import numpy as np\n",
    "import astropy.units as u\n",
    "from astropy.coordinates import SkyCoord, Angle\n",
    "from astropy.time import Time\n",
    "from regions import CircleSkyRegion\n",
    "\n",
    "import logging\n",
    "\n",
    "log = logging.getLogger(__name__)"
   ]
  },
  {
   "cell_type": "code",
   "execution_count": 2,
   "metadata": {},
   "outputs": [],
   "source": [
    "from gammapy.data import Observation\n",
    "from gammapy.irf import load_cta_irfs\n",
    "from gammapy.datasets import SpectrumDataset, Datasets\n",
    "from gammapy.modeling.models import (\n",
    "    PowerLawSpectralModel,\n",
    "    ExpDecayTemporalModel,\n",
    "    SkyModel,\n",
    "    LightCurveTemplateTemporalModel,\n",
    ")\n",
    "from gammapy.maps import MapAxis\n",
    "from gammapy.estimators import LightCurveEstimator\n",
    "from gammapy.makers import SpectrumDatasetMaker\n",
    "from gammapy.modeling import Fit"
   ]
  },
  {
   "cell_type": "markdown",
   "metadata": {},
   "source": [
    "Define a class for a Temporal model (in the first case `MyTemporalModel` the code is copied from gammapy)"
   ]
  },
  {
   "cell_type": "code",
   "execution_count": 3,
   "metadata": {},
   "outputs": [],
   "source": [
    "# An exponential decay (just for test)\n",
    "from gammapy.modeling.models import TemporalModel\n",
    "from gammapy.modeling import Parameter\n",
    "class MyTemporalModel(TemporalModel):\n",
    "    \"\"\"Temporal model with an exponential decay.\n",
    "        ..math::\n",
    "                F(t) = exp(t - t_ref)/t0\n",
    "    Parameters\n",
    "    ----------\n",
    "    t0 : `~astropy.units.Quantity`\n",
    "        Decay time scale\n",
    "    t_ref: `~astropy.units.Quantity`\n",
    "        The reference time in mjd\n",
    "    \"\"\"\n",
    "\n",
    "    tag = \"ExponentialDecayTemporalModel\"\n",
    "\n",
    "    t0 = Parameter(\"t0\", \"1 d\", frozen=False)\n",
    "\n",
    "    _t_ref_default = Time(\"2000-01-01\")\n",
    "    t_ref = Parameter(\"t_ref\", _t_ref_default.mjd, unit=\"day\", frozen=True)\n",
    "\n",
    "    @staticmethod\n",
    "    def evaluate(time, t0, t_ref):\n",
    "        \"\"\"Evaluate at given times\"\"\"\n",
    "        return np.exp(-(time - t_ref) / t0)\n",
    "\n",
    "    def integral(self, t_min, t_max):\n",
    "        \"\"\"Evaluate the integrated flux within the given time intervals\n",
    "        Parameters\n",
    "        ----------\n",
    "        t_min: `~astropy.time.Time`\n",
    "            Start times of observation\n",
    "        t_max: `~astropy.time.Time`\n",
    "            Stop times of observation\n",
    "        Returns\n",
    "        -------\n",
    "        norm : float\n",
    "            Integrated flux norm on the given time intervals\n",
    "        \"\"\"\n",
    "        pars = self.parameters\n",
    "        t0 = pars[\"t0\"].quantity\n",
    "        t_ref = Time(pars[\"t_ref\"].quantity, format=\"mjd\")\n",
    "        value = self.evaluate(t_max, t0, t_ref) - self.evaluate(t_min, t0, t_ref)\n",
    "        return -t0 * value / self.time_sum(t_min, t_max)"
   ]
  },
  {
   "cell_type": "markdown",
   "metadata": {},
   "source": [
    "The class `PowerlawDecayTemporalModel` define a Power Law decay as temporal model"
   ]
  },
  {
   "cell_type": "code",
   "execution_count": 4,
   "metadata": {},
   "outputs": [],
   "source": [
    "from gammapy.modeling.models import TemporalModel\n",
    "from gammapy.modeling import Parameter\n",
    "class PowerlawDecayTemporalModel(TemporalModel):\n",
    "    \"\"\"Temporal model with a power law decay.\n",
    "        ..math::\n",
    "                np.power(( (time - t_ref) / t0 ), index)\n",
    "    Parameters\n",
    "    ----------\n",
    "    t0 : `~astropy.units.Quantity`\n",
    "        Decay time scale\n",
    "    t_ref: `~astropy.units.Quantity`\n",
    "        The reference time in mjd\n",
    "    index: `~astropy.units.Quantity`\n",
    "        Power index \n",
    "    \"\"\"\n",
    "\n",
    "    tag = \"PowerlawDecayTemporalModel\"\n",
    "\n",
    "    #t0 = Parameter(\"t0\", \"1 d\", frozen=False)\n",
    "    t0 = Parameter(\"t0\", 1., unit=\"day\", frozen=False)\n",
    "\n",
    "    _t_ref_default = Time(\"2000-01-01\")\n",
    "    t_ref = Parameter(\"t_ref\", _t_ref_default.mjd, unit=\"day\", frozen=True)\n",
    "    \n",
    "    t_index = Parameter(\"t_index\", -2.0)\n",
    "\n",
    "    @staticmethod\n",
    "    def evaluate(time, t0, t_ref, t_index):\n",
    "        \"\"\"Evaluate at given times\"\"\"\n",
    "        return np.power(( (time - t_ref) / t0 ), t_index)\n",
    "\n",
    "    def integral(self, t_min, t_max):\n",
    "        \"\"\"Evaluate the integrated flux within the given time intervals\n",
    "        Parameters\n",
    "        ----------\n",
    "        t_min: `~astropy.time.Time`\n",
    "            Start times of observation\n",
    "        t_max: `~astropy.time.Time`\n",
    "            Stop times of observation\n",
    "        Returns\n",
    "        -------\n",
    "        norm : float\n",
    "            Integrated flux norm on the given time intervals\n",
    "        \"\"\"\n",
    "        pars = self.parameters\n",
    "        t0 = pars[\"t0\"].quantity\n",
    "        t_index = pars[\"t_index\"].quantity\n",
    "        t_ref = Time(pars[\"t_ref\"].quantity, format=\"mjd\")\n",
    "        dec1 = t_index+1.0\n",
    "        value = self.evaluate(t_max, t0, t_ref, dec1) - self.evaluate(t_max, t0, t_ref, dec1)\n",
    "        return (t0/dec1) * value / self.time_sum(t_min, t_max)"
   ]
  },
  {
   "cell_type": "markdown",
   "metadata": {},
   "source": [
    "An instance of the `MyTemporalModel`class"
   ]
  },
  {
   "cell_type": "code",
   "execution_count": 5,
   "metadata": {},
   "outputs": [
    {
     "name": "stdout",
     "output_type": "stream",
     "text": [
      "Temporal model at time t = t_ref: 1.0\n",
      "After 1 hour: 0.36787944117144267\n"
     ]
    }
   ],
   "source": [
    "gti_t0 = Time(\"2019-01-14 20:57:03\")\n",
    "temporal_model = MyTemporalModel(t0=6 * u.h, t_ref=gti_t0.mjd * u.d)\n",
    "\n",
    "t_ref = Time(\"2019-01-14 20:57:03\")\n",
    "\n",
    "t0 = t_ref \n",
    "value0 = temporal_model.evaluate(t0, 1*u.h, t_ref)\n",
    "print(\"Temporal model at time t = t_ref: {}\".format(value0))\n",
    "\n",
    "t1 =  Time(\"2019-01-14 21:57:03\")\n",
    "value1 = temporal_model.evaluate(t1, 1*u.h, t_ref)\n",
    "print(\"After 1 hour: {}\".format(value1))"
   ]
  },
  {
   "cell_type": "markdown",
   "metadata": {},
   "source": [
    "Same exercise with `PowerlawDecayTemporalModel`"
   ]
  },
  {
   "cell_type": "code",
   "execution_count": 6,
   "metadata": {},
   "outputs": [
    {
     "name": "stdout",
     "output_type": "stream",
     "text": [
      "Temporal model after 1 day: 17.580936309501134\n",
      "Temporal model after 10 day: 0.4416131536906999\n"
     ]
    }
   ],
   "source": [
    "gti_t0 = Time(\"2019-01-14 20:57:03\")\n",
    "temporal_model = PowerlawDecayTemporalModel(t0=6 * u.day, t_ref=gti_t0.mjd * u.d, t_index=-1.6)\n",
    "\n",
    "t_ref = Time(\"2019-01-14 20:57:03\")\n",
    "\n",
    "gti_t0 = Time(\"2019-01-14 20:57:03\")\n",
    "t_ref=gti_t0.mjd * u.d\n",
    "t0 = 6 * u.d\n",
    "t_index = -1.6\n",
    "\n",
    "time = t_ref + 1 * u.d\n",
    "value0 = temporal_model.evaluate(time, t0, t_ref, t_index)\n",
    "print(\"Temporal model after 1 day: {}\".format(value0))\n",
    "\n",
    "time = t_ref + 10 * u.d\n",
    "value0 = temporal_model.evaluate(time, t0, t_ref, t_index)\n",
    "print(\"Temporal model after 10 day: {}\".format(value0))"
   ]
  }
 ],
 "metadata": {
  "kernelspec": {
   "display_name": "Python 3",
   "language": "python",
   "name": "python3"
  },
  "language_info": {
   "codemirror_mode": {
    "name": "ipython",
    "version": 3
   },
   "file_extension": ".py",
   "mimetype": "text/x-python",
   "name": "python",
   "nbconvert_exporter": "python",
   "pygments_lexer": "ipython3",
   "version": "3.7.0"
  }
 },
 "nbformat": 4,
 "nbformat_minor": 4
}
